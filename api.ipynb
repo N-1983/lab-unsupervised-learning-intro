{
 "cells": [
  {
   "cell_type": "markdown",
   "metadata": {},
   "source": [
    "#   It's the moment to perform clustering on the songs you collected. Remember that the ultimate goal of this little project is to improve the recommendations of artists. Clustering the songs will allow the recommendation system to limit the scope of the recommendations to only songs that belong to the same cluster - songs with similar audio features.\n",
    "\n"
   ]
  },
  {
   "cell_type": "code",
   "execution_count": 1,
   "metadata": {},
   "outputs": [],
   "source": [
    "import spotipy\n",
    "import pandas as pd\n",
    "from spotipy.oauth2 import SpotifyClientCredentials\n",
    "import json\n",
    "sp = spotipy.Spotify(auth_manager=SpotifyClientCredentials(client_id='1c48ebf5ac9448a482d355094f8814ae',\n",
    "                                                           client_secret='370638b64e1d4b7f9d2f3ef01559c512'))"
   ]
  },
  {
   "attachments": {
    "Screenshot%202021-05-02%20at%2015.21.14.png": {
     "image/png": "[encoded data removed]"
    }
   },
   "cell_type": "markdown",
   "metadata": {},
   "source": [
    "![Screenshot%202021-05-02%20at%2015.21.14.png](attachment:Screenshot%202021-05-02%20at%2015.21.14.png)"
   ]
  },
  {
   "cell_type": "markdown",
   "metadata": {},
   "source": [
    "# Load all the playlist:"
   ]
  },
  {
   "cell_type": "code",
   "execution_count": 2,
   "metadata": {},
   "outputs": [],
   "source": [
    "playlist1 = sp.user_playlist_tracks(\"spotify\", \"0yZPyRUaeYPT8bcE5za4Jc\")"
   ]
  },
  {
   "cell_type": "code",
   "execution_count": 3,
   "metadata": {},
   "outputs": [
    {
     "data": {
      "text/plain": [
       "dict_keys(['href', 'items', 'limit', 'next', 'offset', 'previous', 'total'])"
      ]
     },
     "execution_count": 3,
     "metadata": {},
     "output_type": "execute_result"
    }
   ],
   "source": [
    "playlist1.keys() "
   ]
  },
  {
   "cell_type": "code",
   "execution_count": 4,
   "metadata": {},
   "outputs": [
    {
     "data": {
      "text/plain": [
       "dict_keys(['added_at', 'added_by', 'is_local', 'primary_color', 'track', 'video_thumbnail'])"
      ]
     },
     "execution_count": 4,
     "metadata": {},
     "output_type": "execute_result"
    }
   ],
   "source": [
    "playlist1[\"items\"][0].keys()"
   ]
  },
  {
   "cell_type": "code",
   "execution_count": 5,
   "metadata": {},
   "outputs": [
    {
     "data": {
      "text/plain": [
       "{'tags': ['hide-output']}"
      ]
     },
     "execution_count": 5,
     "metadata": {},
     "output_type": "execute_result"
    }
   ],
   "source": [
    "playlist1[\"items\"][0][\"track\"]\n",
    "{\n",
    "    \"tags\": [\n",
    "        \"hide-output\",\n",
    "    ]\n",
    "}"
   ]
  },
  {
   "cell_type": "code",
   "execution_count": 6,
   "metadata": {},
   "outputs": [
    {
     "data": {
      "text/plain": [
       "'Poongatrile (From \"Uyire\")'"
      ]
     },
     "execution_count": 6,
     "metadata": {},
     "output_type": "execute_result"
    }
   ],
   "source": [
    "playlist1[\"items\"][0][\"track\"][\"name\"]"
   ]
  },
  {
   "cell_type": "code",
   "execution_count": 7,
   "metadata": {},
   "outputs": [
    {
     "data": {
      "text/plain": [
       "188"
      ]
     },
     "execution_count": 7,
     "metadata": {},
     "output_type": "execute_result"
    }
   ],
   "source": [
    "playlist1[\"total\"]"
   ]
  },
  {
   "cell_type": "code",
   "execution_count": 8,
   "metadata": {},
   "outputs": [],
   "source": [
    "playlist2 = sp.user_playlist_tracks(\"spotify\", \"5NiKo8Js2fBlzIdtLz2TN2\")\n"
   ]
  },
  {
   "cell_type": "code",
   "execution_count": 9,
   "metadata": {},
   "outputs": [
    {
     "data": {
      "text/plain": [
       "dict_keys(['href', 'items', 'limit', 'next', 'offset', 'previous', 'total'])"
      ]
     },
     "execution_count": 9,
     "metadata": {},
     "output_type": "execute_result"
    }
   ],
   "source": [
    "playlist2.keys()"
   ]
  },
  {
   "cell_type": "code",
   "execution_count": 10,
   "metadata": {},
   "outputs": [
    {
     "data": {
      "text/plain": [
       "114"
      ]
     },
     "execution_count": 10,
     "metadata": {},
     "output_type": "execute_result"
    }
   ],
   "source": [
    "playlist2[\"total\"]"
   ]
  },
  {
   "cell_type": "code",
   "execution_count": 11,
   "metadata": {},
   "outputs": [],
   "source": [
    "playlist3 = sp.user_playlist_tracks(\"spotify\", \"1m9lwYPsGVf048zUUsn6Pp\")"
   ]
  },
  {
   "cell_type": "code",
   "execution_count": 12,
   "metadata": {},
   "outputs": [
    {
     "data": {
      "text/plain": [
       "281"
      ]
     },
     "execution_count": 12,
     "metadata": {},
     "output_type": "execute_result"
    }
   ],
   "source": [
    "playlist3[\"total\"]"
   ]
  },
  {
   "cell_type": "code",
   "execution_count": 13,
   "metadata": {},
   "outputs": [],
   "source": [
    "playlist4 = sp.user_playlist_tracks(\"spotify\", \"0NbXxa4qKlkxx5b7Arwfsa\")"
   ]
  },
  {
   "cell_type": "code",
   "execution_count": 14,
   "metadata": {},
   "outputs": [
    {
     "data": {
      "text/plain": [
       "121"
      ]
     },
     "execution_count": 14,
     "metadata": {},
     "output_type": "execute_result"
    }
   ],
   "source": [
    "playlist4[\"total\"]"
   ]
  },
  {
   "cell_type": "code",
   "execution_count": 15,
   "metadata": {},
   "outputs": [],
   "source": [
    "playlist5 = sp.user_playlist_tracks(\"spotify\", \"2yfa5FVOR1mWwJMEcdIAHf\")"
   ]
  },
  {
   "cell_type": "code",
   "execution_count": 16,
   "metadata": {},
   "outputs": [
    {
     "data": {
      "text/plain": [
       "104"
      ]
     },
     "execution_count": 16,
     "metadata": {},
     "output_type": "execute_result"
    }
   ],
   "source": [
    "playlist5[\"total\"]"
   ]
  },
  {
   "cell_type": "code",
   "execution_count": 17,
   "metadata": {},
   "outputs": [],
   "source": [
    "playlist6 = sp.user_playlist_tracks(\"spotify\", \"4mmFstruCc7us95NWGjA4m\")"
   ]
  },
  {
   "cell_type": "code",
   "execution_count": 18,
   "metadata": {},
   "outputs": [
    {
     "data": {
      "text/plain": [
       "297"
      ]
     },
     "execution_count": 18,
     "metadata": {},
     "output_type": "execute_result"
    }
   ],
   "source": [
    "playlist6[\"total\"]"
   ]
  },
  {
   "cell_type": "code",
   "execution_count": 19,
   "metadata": {},
   "outputs": [],
   "source": [
    "playlist7 = sp.user_playlist_tracks(\"spotify\", \"1EBdUu6X55yLHIFRv4fAJj\")"
   ]
  },
  {
   "cell_type": "code",
   "execution_count": 20,
   "metadata": {},
   "outputs": [
    {
     "data": {
      "text/plain": [
       "106"
      ]
     },
     "execution_count": 20,
     "metadata": {},
     "output_type": "execute_result"
    }
   ],
   "source": [
    "playlist7[\"total\"]"
   ]
  },
  {
   "cell_type": "code",
   "execution_count": 21,
   "metadata": {},
   "outputs": [],
   "source": [
    "playlist8 = sp.user_playlist_tracks(\"spotify\", \"3NIN96LF6yBOekvaelEROA\")"
   ]
  },
  {
   "cell_type": "code",
   "execution_count": 22,
   "metadata": {},
   "outputs": [
    {
     "data": {
      "text/plain": [
       "131"
      ]
     },
     "execution_count": 22,
     "metadata": {},
     "output_type": "execute_result"
    }
   ],
   "source": [
    "playlist8[\"total\"]"
   ]
  },
  {
   "cell_type": "code",
   "execution_count": 23,
   "metadata": {},
   "outputs": [],
   "source": [
    "playlist9 = sp.user_playlist_tracks(\"spotify\", \"03OdscZ3k0nBAAkcTGEPJQ\")"
   ]
  },
  {
   "cell_type": "code",
   "execution_count": 24,
   "metadata": {},
   "outputs": [
    {
     "data": {
      "text/plain": [
       "122"
      ]
     },
     "execution_count": 24,
     "metadata": {},
     "output_type": "execute_result"
    }
   ],
   "source": [
    "playlist9[\"total\"]"
   ]
  },
  {
   "cell_type": "code",
   "execution_count": 25,
   "metadata": {},
   "outputs": [],
   "source": [
    "playlist10 = sp.user_playlist_tracks(\"spotify\", \"48O9T6igWeGXZC3LNPbvTq\")"
   ]
  },
  {
   "cell_type": "code",
   "execution_count": 26,
   "metadata": {},
   "outputs": [
    {
     "data": {
      "text/plain": [
       "189"
      ]
     },
     "execution_count": 26,
     "metadata": {},
     "output_type": "execute_result"
    }
   ],
   "source": [
    "playlist10[\"total\"]"
   ]
  },
  {
   "cell_type": "code",
   "execution_count": 27,
   "metadata": {},
   "outputs": [],
   "source": [
    "playlist11 = sp.user_playlist_tracks(\"spotify\", \"25WYJENFC8wfwZZbi3sMPk\")"
   ]
  },
  {
   "cell_type": "code",
   "execution_count": 28,
   "metadata": {},
   "outputs": [
    {
     "data": {
      "text/plain": [
       "34"
      ]
     },
     "execution_count": 28,
     "metadata": {},
     "output_type": "execute_result"
    }
   ],
   "source": [
    "playlist11[\"total\"]"
   ]
  },
  {
   "cell_type": "code",
   "execution_count": 29,
   "metadata": {},
   "outputs": [],
   "source": [
    "playlist12 = sp.user_playlist_tracks(\"spotify\", \"37i9dQZF1DZ06evO0808pH\")"
   ]
  },
  {
   "cell_type": "code",
   "execution_count": 30,
   "metadata": {},
   "outputs": [
    {
     "data": {
      "text/plain": [
       "50"
      ]
     },
     "execution_count": 30,
     "metadata": {},
     "output_type": "execute_result"
    }
   ],
   "source": [
    "playlist12[\"total\"]"
   ]
  },
  {
   "cell_type": "code",
   "execution_count": 31,
   "metadata": {},
   "outputs": [],
   "source": [
    "playlist13 = sp.user_playlist_tracks(\"spotify\", \"7q1rPDUCbJ3mBttU7PSYgF\")"
   ]
  },
  {
   "cell_type": "code",
   "execution_count": 32,
   "metadata": {},
   "outputs": [
    {
     "data": {
      "text/plain": [
       "84"
      ]
     },
     "execution_count": 32,
     "metadata": {},
     "output_type": "execute_result"
    }
   ],
   "source": [
    "playlist13[\"total\"]"
   ]
  },
  {
   "cell_type": "code",
   "execution_count": 33,
   "metadata": {},
   "outputs": [],
   "source": [
    "playlist14 = sp.user_playlist_tracks(\"spotify\", \"0ShdeED8XclXQPg9bTPKiU\")"
   ]
  },
  {
   "cell_type": "code",
   "execution_count": 34,
   "metadata": {},
   "outputs": [
    {
     "data": {
      "text/plain": [
       "233"
      ]
     },
     "execution_count": 34,
     "metadata": {},
     "output_type": "execute_result"
    }
   ],
   "source": [
    "playlist14[\"total\"]"
   ]
  },
  {
   "cell_type": "code",
   "execution_count": 35,
   "metadata": {},
   "outputs": [],
   "source": [
    "playlist15 = sp.user_playlist_tracks(\"spotify\", \"2dzXc647txKZgXDXdH29Mm\")"
   ]
  },
  {
   "cell_type": "code",
   "execution_count": 36,
   "metadata": {},
   "outputs": [
    {
     "data": {
      "text/plain": [
       "158"
      ]
     },
     "execution_count": 36,
     "metadata": {},
     "output_type": "execute_result"
    }
   ],
   "source": [
    "playlist15[\"total\"]"
   ]
  },
  {
   "cell_type": "code",
   "execution_count": 37,
   "metadata": {},
   "outputs": [],
   "source": [
    "playlist16 = sp.user_playlist_tracks(\"spotify\", \"5ssjdYVx5Ch0DoNEtJ8HxA\")"
   ]
  },
  {
   "cell_type": "code",
   "execution_count": 38,
   "metadata": {},
   "outputs": [
    {
     "data": {
      "text/plain": [
       "217"
      ]
     },
     "execution_count": 38,
     "metadata": {},
     "output_type": "execute_result"
    }
   ],
   "source": [
    "playlist16[\"total\"]"
   ]
  },
  {
   "cell_type": "code",
   "execution_count": 39,
   "metadata": {},
   "outputs": [],
   "source": [
    "playlist17 = sp.user_playlist_tracks(\"spotify\", \"56MSBtcsvkevL2WJm1cier\")"
   ]
  },
  {
   "cell_type": "code",
   "execution_count": 40,
   "metadata": {},
   "outputs": [
    {
     "data": {
      "text/plain": [
       "60"
      ]
     },
     "execution_count": 40,
     "metadata": {},
     "output_type": "execute_result"
    }
   ],
   "source": [
    "playlist17[\"total\"]"
   ]
  },
  {
   "cell_type": "code",
   "execution_count": 41,
   "metadata": {},
   "outputs": [],
   "source": [
    "playlist18 = sp.user_playlist_tracks(\"spotify\", \"7m9ur4ttOnhU7G2hdg9DOa\")"
   ]
  },
  {
   "cell_type": "code",
   "execution_count": 42,
   "metadata": {},
   "outputs": [
    {
     "data": {
      "text/plain": [
       "17"
      ]
     },
     "execution_count": 42,
     "metadata": {},
     "output_type": "execute_result"
    }
   ],
   "source": [
    "playlist18[\"total\"]"
   ]
  },
  {
   "cell_type": "code",
   "execution_count": 43,
   "metadata": {},
   "outputs": [],
   "source": [
    "playlist19 = sp.user_playlist_tracks(\"spotify\", \"1EuZY35hN7s0TooPI8qE2b\")"
   ]
  },
  {
   "cell_type": "code",
   "execution_count": 44,
   "metadata": {},
   "outputs": [
    {
     "data": {
      "text/plain": [
       "185"
      ]
     },
     "execution_count": 44,
     "metadata": {},
     "output_type": "execute_result"
    }
   ],
   "source": [
    "playlist19[\"total\"]"
   ]
  },
  {
   "cell_type": "code",
   "execution_count": 45,
   "metadata": {},
   "outputs": [],
   "source": [
    "playlist20 = sp.user_playlist_tracks(\"spotify\", \"1GptpHBJ9KsH5FcSzjFH5L\")"
   ]
  },
  {
   "cell_type": "code",
   "execution_count": 46,
   "metadata": {},
   "outputs": [
    {
     "data": {
      "text/plain": [
       "32"
      ]
     },
     "execution_count": 46,
     "metadata": {},
     "output_type": "execute_result"
    }
   ],
   "source": [
    "playlist20[\"total\"]"
   ]
  },
  {
   "cell_type": "code",
   "execution_count": 47,
   "metadata": {},
   "outputs": [],
   "source": [
    "playlist21 = sp.user_playlist_tracks(\"spotify\", \"608oAZh9je5zA95dZAkpuO\")"
   ]
  },
  {
   "cell_type": "code",
   "execution_count": 48,
   "metadata": {},
   "outputs": [
    {
     "data": {
      "text/plain": [
       "136"
      ]
     },
     "execution_count": 48,
     "metadata": {},
     "output_type": "execute_result"
    }
   ],
   "source": [
    "playlist21[\"total\"]"
   ]
  },
  {
   "cell_type": "code",
   "execution_count": 49,
   "metadata": {},
   "outputs": [],
   "source": [
    "playlist22 = sp.user_playlist_tracks(\"spotify\", \"37i9dQZF1DX9DHKgiu5R9j\")"
   ]
  },
  {
   "cell_type": "code",
   "execution_count": 50,
   "metadata": {},
   "outputs": [
    {
     "data": {
      "text/plain": [
       "48"
      ]
     },
     "execution_count": 50,
     "metadata": {},
     "output_type": "execute_result"
    }
   ],
   "source": [
    "playlist22[\"total\"]"
   ]
  },
  {
   "cell_type": "code",
   "execution_count": 51,
   "metadata": {},
   "outputs": [
    {
     "data": {
      "text/plain": [
       "'Poongatrile (From \"Uyire\")'"
      ]
     },
     "execution_count": 51,
     "metadata": {},
     "output_type": "execute_result"
    }
   ],
   "source": [
    "playlist1[\"items\"][0][\"track\"][\"name\"]"
   ]
  },
  {
   "cell_type": "markdown",
   "metadata": {},
   "source": [
    "# Features of playlists"
   ]
  },
  {
   "cell_type": "code",
   "execution_count": 52,
   "metadata": {},
   "outputs": [],
   "source": [
    "song_uri = playlist1[\"items\"][0][\"track\"][\"uri\"]"
   ]
  },
  {
   "cell_type": "code",
   "execution_count": 53,
   "metadata": {},
   "outputs": [
    {
     "data": {
      "text/plain": [
       "'spotify:track:48vEUc5MnUiqtrbclwVZPz'"
      ]
     },
     "execution_count": 53,
     "metadata": {},
     "output_type": "execute_result"
    }
   ],
   "source": [
    "song_uri"
   ]
  },
  {
   "cell_type": "code",
   "execution_count": 54,
   "metadata": {},
   "outputs": [
    {
     "data": {
      "text/plain": [
       "[{'danceability': 0.75,\n",
       "  'energy': 0.341,\n",
       "  'key': 11,\n",
       "  'loudness': -13.368,\n",
       "  'mode': 0,\n",
       "  'speechiness': 0.0381,\n",
       "  'acousticness': 0.267,\n",
       "  'instrumentalness': 0,\n",
       "  'liveness': 0.0951,\n",
       "  'valence': 0.602,\n",
       "  'tempo': 121.999,\n",
       "  'type': 'audio_features',\n",
       "  'id': '48vEUc5MnUiqtrbclwVZPz',\n",
       "  'uri': 'spotify:track:48vEUc5MnUiqtrbclwVZPz',\n",
       "  'track_href': 'https://api.spotify.com/v1/tracks/48vEUc5MnUiqtrbclwVZPz',\n",
       "  'analysis_url': 'https://api.spotify.com/v1/audio-analysis/48vEUc5MnUiqtrbclwVZPz',\n",
       "  'duration_ms': 340874,\n",
       "  'time_signature': 4}]"
      ]
     },
     "execution_count": 54,
     "metadata": {},
     "output_type": "execute_result"
    }
   ],
   "source": [
    "sp.audio_features(song_uri)"
   ]
  },
  {
   "cell_type": "code",
   "execution_count": 55,
   "metadata": {},
   "outputs": [],
   "source": [
    "playlist_audio_features = []\n",
    "playlist_track = []\n",
    "playlist_artist = []\n",
    "\n",
    "for i in range (len(playlist1['items'])):\n",
    "    tracks = playlist1['items'][i]['track']['name']\n",
    "    playlist_track.append(tracks)\n",
    "for i in range (len(playlist1['items'])):\n",
    "    artist = playlist1['items'][i]['track']['album']['artists'][0]['name']\n",
    "    playlist_artist.append(artist)   \n",
    "\n",
    "\n",
    "for i in range (len(playlist1['items'])):\n",
    "    song_uri = playlist1['items'][i]['track']['uri']\n",
    "    playlist_audio_features.append(song_uri)\n",
    "    "
   ]
  },
  {
   "cell_type": "code",
   "execution_count": 56,
   "metadata": {},
   "outputs": [],
   "source": [
    "playlist_audio_features_df = pd.DataFrame(sp.audio_features(playlist_audio_features))\n",
    "playlist_track_df = pd.DataFrame(playlist_track)\n",
    "playlist_artist_df = pd.DataFrame(playlist_artist)"
   ]
  },
  {
   "cell_type": "code",
   "execution_count": 57,
   "metadata": {},
   "outputs": [
    {
     "data": {
      "text/plain": [
       "Index([                 0,                  0,     'danceability',\n",
       "                 'energy',              'key',         'loudness',\n",
       "                   'mode',      'speechiness',     'acousticness',\n",
       "       'instrumentalness',         'liveness',          'valence',\n",
       "                  'tempo',             'type',               'id',\n",
       "                    'uri',       'track_href',     'analysis_url',\n",
       "            'duration_ms',   'time_signature'],\n",
       "      dtype='object')"
      ]
     },
     "execution_count": 57,
     "metadata": {},
     "output_type": "execute_result"
    }
   ],
   "source": [
    "data1 = pd.concat((playlist_track_df, playlist_artist_df, playlist_audio_features_df),axis=1)\n",
    "data1.drop(['type','uri','track_href','analysis_url'], axis=1)\n",
    "data1.columns"
   ]
  },
  {
   "cell_type": "code",
   "execution_count": 58,
   "metadata": {},
   "outputs": [],
   "source": [
    "data1.columns = [                 'title',                  'artist',     'danceability',\n",
    "                 'energy',              'key',         'loudness',\n",
    "                   'mode',      'speechiness',     'acousticness',\n",
    "       'instrumentalness',         'liveness',          'valence',\n",
    "                  'tempo',             'type',               'id',\n",
    "                    'uri',       'track_href',     'analysis_url',\n",
    "            'duration_ms',   'time_signature']"
   ]
  },
  {
   "cell_type": "code",
   "execution_count": 59,
   "metadata": {},
   "outputs": [
    {
     "data": {
      "text/html": [
       "<div>\n",
       "<style scoped>\n",
       "    .dataframe tbody tr th:only-of-type {\n",
       "        vertical-align: middle;\n",
       "    }\n",
       "\n",
       "    .dataframe tbody tr th {\n",
       "        vertical-align: top;\n",
       "    }\n",
       "\n",
       "    .dataframe thead th {\n",
       "        text-align: right;\n",
       "    }\n",
       "</style>\n",
       "<table border=\"1\" class=\"dataframe\">\n",
       "  <thead>\n",
       "    <tr style=\"text-align: right;\">\n",
       "      <th></th>\n",
       "      <th>title</th>\n",
       "      <th>artist</th>\n",
       "      <th>danceability</th>\n",
       "      <th>energy</th>\n",
       "      <th>key</th>\n",
       "      <th>loudness</th>\n",
       "      <th>mode</th>\n",
       "      <th>speechiness</th>\n",
       "      <th>acousticness</th>\n",
       "      <th>instrumentalness</th>\n",
       "      <th>liveness</th>\n",
       "      <th>valence</th>\n",
       "      <th>tempo</th>\n",
       "      <th>type</th>\n",
       "      <th>id</th>\n",
       "      <th>uri</th>\n",
       "      <th>track_href</th>\n",
       "      <th>analysis_url</th>\n",
       "      <th>duration_ms</th>\n",
       "      <th>time_signature</th>\n",
       "    </tr>\n",
       "  </thead>\n",
       "  <tbody>\n",
       "    <tr>\n",
       "      <th>0</th>\n",
       "      <td>Poongatrile (From \"Uyire\")</td>\n",
       "      <td>A.R. Rahman</td>\n",
       "      <td>0.750</td>\n",
       "      <td>0.341</td>\n",
       "      <td>11</td>\n",
       "      <td>-13.368</td>\n",
       "      <td>0</td>\n",
       "      <td>0.0381</td>\n",
       "      <td>0.2670</td>\n",
       "      <td>0.000000</td>\n",
       "      <td>0.0951</td>\n",
       "      <td>0.602</td>\n",
       "      <td>121.999</td>\n",
       "      <td>audio_features</td>\n",
       "      <td>48vEUc5MnUiqtrbclwVZPz</td>\n",
       "      <td>spotify:track:48vEUc5MnUiqtrbclwVZPz</td>\n",
       "      <td>https://api.spotify.com/v1/tracks/48vEUc5MnUiq...</td>\n",
       "      <td>https://api.spotify.com/v1/audio-analysis/48vE...</td>\n",
       "      <td>340874</td>\n",
       "      <td>4</td>\n",
       "    </tr>\n",
       "    <tr>\n",
       "      <th>1</th>\n",
       "      <td>Kaadhal yogi (From \"Thaalam\")</td>\n",
       "      <td>A.R. Rahman</td>\n",
       "      <td>0.787</td>\n",
       "      <td>0.407</td>\n",
       "      <td>6</td>\n",
       "      <td>-15.394</td>\n",
       "      <td>1</td>\n",
       "      <td>0.0846</td>\n",
       "      <td>0.0825</td>\n",
       "      <td>0.000000</td>\n",
       "      <td>0.2490</td>\n",
       "      <td>0.683</td>\n",
       "      <td>139.989</td>\n",
       "      <td>audio_features</td>\n",
       "      <td>4jyHT2uekcfJehrSKDjVrh</td>\n",
       "      <td>spotify:track:4jyHT2uekcfJehrSKDjVrh</td>\n",
       "      <td>https://api.spotify.com/v1/tracks/4jyHT2uekcfJ...</td>\n",
       "      <td>https://api.spotify.com/v1/audio-analysis/4jyH...</td>\n",
       "      <td>390348</td>\n",
       "      <td>4</td>\n",
       "    </tr>\n",
       "    <tr>\n",
       "      <th>2</th>\n",
       "      <td>Thayya Thayya (From \"Uyire\")</td>\n",
       "      <td>A.R. Rahman</td>\n",
       "      <td>0.648</td>\n",
       "      <td>0.593</td>\n",
       "      <td>4</td>\n",
       "      <td>-15.789</td>\n",
       "      <td>0</td>\n",
       "      <td>0.2990</td>\n",
       "      <td>0.0446</td>\n",
       "      <td>0.000000</td>\n",
       "      <td>0.2770</td>\n",
       "      <td>0.387</td>\n",
       "      <td>179.883</td>\n",
       "      <td>audio_features</td>\n",
       "      <td>1oSG2DaOa66W0tDhEo12ro</td>\n",
       "      <td>spotify:track:1oSG2DaOa66W0tDhEo12ro</td>\n",
       "      <td>https://api.spotify.com/v1/tracks/1oSG2DaOa66W...</td>\n",
       "      <td>https://api.spotify.com/v1/audio-analysis/1oSG...</td>\n",
       "      <td>254293</td>\n",
       "      <td>4</td>\n",
       "    </tr>\n",
       "    <tr>\n",
       "      <th>3</th>\n",
       "      <td>Nenjinile (From \"Uyire\")</td>\n",
       "      <td>A.R. Rahman</td>\n",
       "      <td>0.755</td>\n",
       "      <td>0.594</td>\n",
       "      <td>9</td>\n",
       "      <td>-14.460</td>\n",
       "      <td>1</td>\n",
       "      <td>0.0549</td>\n",
       "      <td>0.2160</td>\n",
       "      <td>0.000328</td>\n",
       "      <td>0.0781</td>\n",
       "      <td>0.683</td>\n",
       "      <td>141.946</td>\n",
       "      <td>audio_features</td>\n",
       "      <td>0LT9Ac2e9ngk14UIYTeich</td>\n",
       "      <td>spotify:track:0LT9Ac2e9ngk14UIYTeich</td>\n",
       "      <td>https://api.spotify.com/v1/tracks/0LT9Ac2e9ngk...</td>\n",
       "      <td>https://api.spotify.com/v1/audio-analysis/0LT9...</td>\n",
       "      <td>302572</td>\n",
       "      <td>4</td>\n",
       "    </tr>\n",
       "    <tr>\n",
       "      <th>4</th>\n",
       "      <td>Eetchi Elumichi (From \"Taj Mahal\")</td>\n",
       "      <td>A.R. Rahman</td>\n",
       "      <td>0.702</td>\n",
       "      <td>0.478</td>\n",
       "      <td>10</td>\n",
       "      <td>-10.873</td>\n",
       "      <td>1</td>\n",
       "      <td>0.0363</td>\n",
       "      <td>0.0960</td>\n",
       "      <td>0.000016</td>\n",
       "      <td>0.1350</td>\n",
       "      <td>0.901</td>\n",
       "      <td>155.997</td>\n",
       "      <td>audio_features</td>\n",
       "      <td>11tEwwBYGEjcEvEi7Gw1t0</td>\n",
       "      <td>spotify:track:11tEwwBYGEjcEvEi7Gw1t0</td>\n",
       "      <td>https://api.spotify.com/v1/tracks/11tEwwBYGEjc...</td>\n",
       "      <td>https://api.spotify.com/v1/audio-analysis/11tE...</td>\n",
       "      <td>405603</td>\n",
       "      <td>3</td>\n",
       "    </tr>\n",
       "    <tr>\n",
       "      <th>...</th>\n",
       "      <td>...</td>\n",
       "      <td>...</td>\n",
       "      <td>...</td>\n",
       "      <td>...</td>\n",
       "      <td>...</td>\n",
       "      <td>...</td>\n",
       "      <td>...</td>\n",
       "      <td>...</td>\n",
       "      <td>...</td>\n",
       "      <td>...</td>\n",
       "      <td>...</td>\n",
       "      <td>...</td>\n",
       "      <td>...</td>\n",
       "      <td>...</td>\n",
       "      <td>...</td>\n",
       "      <td>...</td>\n",
       "      <td>...</td>\n",
       "      <td>...</td>\n",
       "      <td>...</td>\n",
       "      <td>...</td>\n",
       "    </tr>\n",
       "    <tr>\n",
       "      <th>95</th>\n",
       "      <td>Smiyai</td>\n",
       "      <td>A.R. Rahman</td>\n",
       "      <td>0.859</td>\n",
       "      <td>0.545</td>\n",
       "      <td>6</td>\n",
       "      <td>-15.112</td>\n",
       "      <td>1</td>\n",
       "      <td>0.1230</td>\n",
       "      <td>0.1060</td>\n",
       "      <td>0.001250</td>\n",
       "      <td>0.1130</td>\n",
       "      <td>0.748</td>\n",
       "      <td>120.035</td>\n",
       "      <td>audio_features</td>\n",
       "      <td>1YvBdEqVeVeShTV61Impbe</td>\n",
       "      <td>spotify:track:1YvBdEqVeVeShTV61Impbe</td>\n",
       "      <td>https://api.spotify.com/v1/tracks/1YvBdEqVeVeS...</td>\n",
       "      <td>https://api.spotify.com/v1/audio-analysis/1YvB...</td>\n",
       "      <td>311333</td>\n",
       "      <td>4</td>\n",
       "    </tr>\n",
       "    <tr>\n",
       "      <th>96</th>\n",
       "      <td>Oh Mariyaa</td>\n",
       "      <td>A.R. Rahman</td>\n",
       "      <td>0.691</td>\n",
       "      <td>0.596</td>\n",
       "      <td>9</td>\n",
       "      <td>-12.968</td>\n",
       "      <td>0</td>\n",
       "      <td>0.0785</td>\n",
       "      <td>0.0174</td>\n",
       "      <td>0.000010</td>\n",
       "      <td>0.1210</td>\n",
       "      <td>0.708</td>\n",
       "      <td>155.897</td>\n",
       "      <td>audio_features</td>\n",
       "      <td>2vEgFtWeuFCaUpp2RF9X8u</td>\n",
       "      <td>spotify:track:2vEgFtWeuFCaUpp2RF9X8u</td>\n",
       "      <td>https://api.spotify.com/v1/tracks/2vEgFtWeuFCa...</td>\n",
       "      <td>https://api.spotify.com/v1/audio-analysis/2vEg...</td>\n",
       "      <td>382459</td>\n",
       "      <td>4</td>\n",
       "    </tr>\n",
       "    <tr>\n",
       "      <th>97</th>\n",
       "      <td>Arima Arima</td>\n",
       "      <td>A.R. Rahman</td>\n",
       "      <td>0.762</td>\n",
       "      <td>0.745</td>\n",
       "      <td>7</td>\n",
       "      <td>-5.235</td>\n",
       "      <td>1</td>\n",
       "      <td>0.0545</td>\n",
       "      <td>0.6270</td>\n",
       "      <td>0.000053</td>\n",
       "      <td>0.1700</td>\n",
       "      <td>0.595</td>\n",
       "      <td>109.976</td>\n",
       "      <td>audio_features</td>\n",
       "      <td>54fcnT8CMna8huDRovxb3M</td>\n",
       "      <td>spotify:track:54fcnT8CMna8huDRovxb3M</td>\n",
       "      <td>https://api.spotify.com/v1/tracks/54fcnT8CMna8...</td>\n",
       "      <td>https://api.spotify.com/v1/audio-analysis/54fc...</td>\n",
       "      <td>318341</td>\n",
       "      <td>4</td>\n",
       "    </tr>\n",
       "    <tr>\n",
       "      <th>98</th>\n",
       "      <td>Kilimanjaro</td>\n",
       "      <td>A.R. Rahman</td>\n",
       "      <td>0.822</td>\n",
       "      <td>0.709</td>\n",
       "      <td>6</td>\n",
       "      <td>-5.437</td>\n",
       "      <td>0</td>\n",
       "      <td>0.1760</td>\n",
       "      <td>0.1820</td>\n",
       "      <td>0.000009</td>\n",
       "      <td>0.0642</td>\n",
       "      <td>0.781</td>\n",
       "      <td>143.965</td>\n",
       "      <td>audio_features</td>\n",
       "      <td>00ccg2Hr9IdWjP77eE4Tor</td>\n",
       "      <td>spotify:track:00ccg2Hr9IdWjP77eE4Tor</td>\n",
       "      <td>https://api.spotify.com/v1/tracks/00ccg2Hr9IdW...</td>\n",
       "      <td>https://api.spotify.com/v1/audio-analysis/00cc...</td>\n",
       "      <td>331125</td>\n",
       "      <td>4</td>\n",
       "    </tr>\n",
       "    <tr>\n",
       "      <th>99</th>\n",
       "      <td>Kannum Kannum</td>\n",
       "      <td>A.R. Rahman</td>\n",
       "      <td>0.824</td>\n",
       "      <td>0.353</td>\n",
       "      <td>7</td>\n",
       "      <td>-14.879</td>\n",
       "      <td>1</td>\n",
       "      <td>0.2430</td>\n",
       "      <td>0.2790</td>\n",
       "      <td>0.000000</td>\n",
       "      <td>0.0682</td>\n",
       "      <td>0.764</td>\n",
       "      <td>83.441</td>\n",
       "      <td>audio_features</td>\n",
       "      <td>14IbCMxPaSD3bkStHORkeL</td>\n",
       "      <td>spotify:track:14IbCMxPaSD3bkStHORkeL</td>\n",
       "      <td>https://api.spotify.com/v1/tracks/14IbCMxPaSD3...</td>\n",
       "      <td>https://api.spotify.com/v1/audio-analysis/14Ib...</td>\n",
       "      <td>248480</td>\n",
       "      <td>4</td>\n",
       "    </tr>\n",
       "  </tbody>\n",
       "</table>\n",
       "<p>100 rows × 20 columns</p>\n",
       "</div>"
      ],
      "text/plain": [
       "                                 title       artist  danceability  energy  \\\n",
       "0           Poongatrile (From \"Uyire\")  A.R. Rahman         0.750   0.341   \n",
       "1        Kaadhal yogi (From \"Thaalam\")  A.R. Rahman         0.787   0.407   \n",
       "2         Thayya Thayya (From \"Uyire\")  A.R. Rahman         0.648   0.593   \n",
       "3             Nenjinile (From \"Uyire\")  A.R. Rahman         0.755   0.594   \n",
       "4   Eetchi Elumichi (From \"Taj Mahal\")  A.R. Rahman         0.702   0.478   \n",
       "..                                 ...          ...           ...     ...   \n",
       "95                              Smiyai  A.R. Rahman         0.859   0.545   \n",
       "96                          Oh Mariyaa  A.R. Rahman         0.691   0.596   \n",
       "97                         Arima Arima  A.R. Rahman         0.762   0.745   \n",
       "98                         Kilimanjaro  A.R. Rahman         0.822   0.709   \n",
       "99                       Kannum Kannum  A.R. Rahman         0.824   0.353   \n",
       "\n",
       "    key  loudness  mode  speechiness  acousticness  instrumentalness  \\\n",
       "0    11   -13.368     0       0.0381        0.2670          0.000000   \n",
       "1     6   -15.394     1       0.0846        0.0825          0.000000   \n",
       "2     4   -15.789     0       0.2990        0.0446          0.000000   \n",
       "3     9   -14.460     1       0.0549        0.2160          0.000328   \n",
       "4    10   -10.873     1       0.0363        0.0960          0.000016   \n",
       "..  ...       ...   ...          ...           ...               ...   \n",
       "95    6   -15.112     1       0.1230        0.1060          0.001250   \n",
       "96    9   -12.968     0       0.0785        0.0174          0.000010   \n",
       "97    7    -5.235     1       0.0545        0.6270          0.000053   \n",
       "98    6    -5.437     0       0.1760        0.1820          0.000009   \n",
       "99    7   -14.879     1       0.2430        0.2790          0.000000   \n",
       "\n",
       "    liveness  valence    tempo            type                      id  \\\n",
       "0     0.0951    0.602  121.999  audio_features  48vEUc5MnUiqtrbclwVZPz   \n",
       "1     0.2490    0.683  139.989  audio_features  4jyHT2uekcfJehrSKDjVrh   \n",
       "2     0.2770    0.387  179.883  audio_features  1oSG2DaOa66W0tDhEo12ro   \n",
       "3     0.0781    0.683  141.946  audio_features  0LT9Ac2e9ngk14UIYTeich   \n",
       "4     0.1350    0.901  155.997  audio_features  11tEwwBYGEjcEvEi7Gw1t0   \n",
       "..       ...      ...      ...             ...                     ...   \n",
       "95    0.1130    0.748  120.035  audio_features  1YvBdEqVeVeShTV61Impbe   \n",
       "96    0.1210    0.708  155.897  audio_features  2vEgFtWeuFCaUpp2RF9X8u   \n",
       "97    0.1700    0.595  109.976  audio_features  54fcnT8CMna8huDRovxb3M   \n",
       "98    0.0642    0.781  143.965  audio_features  00ccg2Hr9IdWjP77eE4Tor   \n",
       "99    0.0682    0.764   83.441  audio_features  14IbCMxPaSD3bkStHORkeL   \n",
       "\n",
       "                                     uri  \\\n",
       "0   spotify:track:48vEUc5MnUiqtrbclwVZPz   \n",
       "1   spotify:track:4jyHT2uekcfJehrSKDjVrh   \n",
       "2   spotify:track:1oSG2DaOa66W0tDhEo12ro   \n",
       "3   spotify:track:0LT9Ac2e9ngk14UIYTeich   \n",
       "4   spotify:track:11tEwwBYGEjcEvEi7Gw1t0   \n",
       "..                                   ...   \n",
       "95  spotify:track:1YvBdEqVeVeShTV61Impbe   \n",
       "96  spotify:track:2vEgFtWeuFCaUpp2RF9X8u   \n",
       "97  spotify:track:54fcnT8CMna8huDRovxb3M   \n",
       "98  spotify:track:00ccg2Hr9IdWjP77eE4Tor   \n",
       "99  spotify:track:14IbCMxPaSD3bkStHORkeL   \n",
       "\n",
       "                                           track_href  \\\n",
       "0   https://api.spotify.com/v1/tracks/48vEUc5MnUiq...   \n",
       "1   https://api.spotify.com/v1/tracks/4jyHT2uekcfJ...   \n",
       "2   https://api.spotify.com/v1/tracks/1oSG2DaOa66W...   \n",
       "3   https://api.spotify.com/v1/tracks/0LT9Ac2e9ngk...   \n",
       "4   https://api.spotify.com/v1/tracks/11tEwwBYGEjc...   \n",
       "..                                                ...   \n",
       "95  https://api.spotify.com/v1/tracks/1YvBdEqVeVeS...   \n",
       "96  https://api.spotify.com/v1/tracks/2vEgFtWeuFCa...   \n",
       "97  https://api.spotify.com/v1/tracks/54fcnT8CMna8...   \n",
       "98  https://api.spotify.com/v1/tracks/00ccg2Hr9IdW...   \n",
       "99  https://api.spotify.com/v1/tracks/14IbCMxPaSD3...   \n",
       "\n",
       "                                         analysis_url  duration_ms  \\\n",
       "0   https://api.spotify.com/v1/audio-analysis/48vE...       340874   \n",
       "1   https://api.spotify.com/v1/audio-analysis/4jyH...       390348   \n",
       "2   https://api.spotify.com/v1/audio-analysis/1oSG...       254293   \n",
       "3   https://api.spotify.com/v1/audio-analysis/0LT9...       302572   \n",
       "4   https://api.spotify.com/v1/audio-analysis/11tE...       405603   \n",
       "..                                                ...          ...   \n",
       "95  https://api.spotify.com/v1/audio-analysis/1YvB...       311333   \n",
       "96  https://api.spotify.com/v1/audio-analysis/2vEg...       382459   \n",
       "97  https://api.spotify.com/v1/audio-analysis/54fc...       318341   \n",
       "98  https://api.spotify.com/v1/audio-analysis/00cc...       331125   \n",
       "99  https://api.spotify.com/v1/audio-analysis/14Ib...       248480   \n",
       "\n",
       "    time_signature  \n",
       "0                4  \n",
       "1                4  \n",
       "2                4  \n",
       "3                4  \n",
       "4                3  \n",
       "..             ...  \n",
       "95               4  \n",
       "96               4  \n",
       "97               4  \n",
       "98               4  \n",
       "99               4  \n",
       "\n",
       "[100 rows x 20 columns]"
      ]
     },
     "execution_count": 59,
     "metadata": {},
     "output_type": "execute_result"
    }
   ],
   "source": [
    "data1"
   ]
  },
  {
   "cell_type": "code",
   "execution_count": 60,
   "metadata": {},
   "outputs": [],
   "source": [
    "playlists = [playlist1,playlist2,playlist3,playlist4,playlist5,playlist6,playlist7,playlist8,playlist9,playlist10,playlist11,playlist12,playlist13,playlist14,playlist15,playlist16,playlist17,playlist18,playlist19,playlist20,playlist21,playlist22]"
   ]
  },
  {
   "cell_type": "code",
   "execution_count": 61,
   "metadata": {},
   "outputs": [
    {
     "data": {
      "text/plain": [
       "'Poongatrile (From \"Uyire\")'"
      ]
     },
     "execution_count": 61,
     "metadata": {},
     "output_type": "execute_result"
    }
   ],
   "source": [
    "playlists[0]['items'][0]['track']['name']"
   ]
  },
  {
   "cell_type": "code",
   "execution_count": 62,
   "metadata": {},
   "outputs": [],
   "source": [
    "playlist_audio_features = []\n",
    "playlist_track = []\n",
    "playlist_artist = []\n",
    "#playlist = sp.user_playlist_tracks(\"spotify\", \"5NiKo8Js2fBlzIdtLz2TN2\")\n",
    "#while playlists['next']!=None:\n",
    "    #playlists = sp.next(playlist)\n",
    "for playlist in playlists:  \n",
    "    for i in range(len(playlist['items'])):\n",
    "        tracks = playlist['items'][i]['track']['name']\n",
    "        playlist_track.append(tracks)\n",
    "    for i in range(len(playlist['items'])):\n",
    "        artist = playlist['items'][i]['track']['album']['artists'][0]['name']\n",
    "        playlist_artist.append(artist) \n",
    "    for i in range(len(playlist['items'])):\n",
    "        song_uri = playlist['items'][i]['track']['uri']\n",
    "        playlist_audio_features.append(song_uri)        "
   ]
  },
  {
   "cell_type": "code",
   "execution_count": 63,
   "metadata": {},
   "outputs": [
    {
     "data": {
      "text/plain": [
       "{'tags': ['hide-output']}"
      ]
     },
     "execution_count": 63,
     "metadata": {},
     "output_type": "execute_result"
    }
   ],
   "source": [
    "playlist_audio_features\n",
    "{\n",
    "    \"tags\": [\n",
    "        \"hide-output\",\n",
    "    ]\n",
    "}"
   ]
  },
  {
   "cell_type": "code",
   "execution_count": 64,
   "metadata": {},
   "outputs": [
    {
     "data": {
      "text/plain": [
       "1825"
      ]
     },
     "execution_count": 64,
     "metadata": {},
     "output_type": "execute_result"
    }
   ],
   "source": [
    "len(playlist_audio_features)"
   ]
  },
  {
   "cell_type": "code",
   "execution_count": 65,
   "metadata": {},
   "outputs": [],
   "source": [
    "from time import sleep"
   ]
  },
  {
   "cell_type": "code",
   "execution_count": 124,
   "metadata": {},
   "outputs": [],
   "source": [
    "audio_features = []\n",
    "\n",
    "for uri in playlist_audio_features:\n",
    "    audio_features.append(sp.audio_features(uri))\n",
    "    sleep(0.5)\n",
    " "
   ]
  },
  {
   "cell_type": "code",
   "execution_count": 125,
   "metadata": {},
   "outputs": [
    {
     "data": {
      "text/plain": [
       "1825"
      ]
     },
     "execution_count": 125,
     "metadata": {},
     "output_type": "execute_result"
    }
   ],
   "source": [
    "len(audio_features)"
   ]
  },
  {
   "cell_type": "code",
   "execution_count": 126,
   "metadata": {},
   "outputs": [],
   "source": [
    "def flatten(input_list):\n",
    "    return [item for sublist in input_list for item in sublist]"
   ]
  },
  {
   "cell_type": "code",
   "execution_count": 127,
   "metadata": {},
   "outputs": [
    {
     "data": {
      "text/plain": [
       "{'tags': ['hide-output']}"
      ]
     },
     "execution_count": 127,
     "metadata": {},
     "output_type": "execute_result"
    }
   ],
   "source": [
    "features = flatten(audio_features)\n",
    "{\n",
    "    \"tags\": [\n",
    "        \"hide-output\",\n",
    "    ]\n",
    "}"
   ]
  },
  {
   "cell_type": "code",
   "execution_count": 70,
   "metadata": {},
   "outputs": [],
   "source": [
    "playlist_audio_features_df = pd.DataFrame(audio_features)\n",
    "playlist_track_df = pd.DataFrame(playlist_track)\n",
    "playlist_artist_df = pd.DataFrame(playlist_artist)\n",
    "features_df = pd.DataFrame(features)"
   ]
  },
  {
   "cell_type": "code",
   "execution_count": 71,
   "metadata": {},
   "outputs": [
    {
     "data": {
      "text/html": [
       "<div>\n",
       "<style scoped>\n",
       "    .dataframe tbody tr th:only-of-type {\n",
       "        vertical-align: middle;\n",
       "    }\n",
       "\n",
       "    .dataframe tbody tr th {\n",
       "        vertical-align: top;\n",
       "    }\n",
       "\n",
       "    .dataframe thead th {\n",
       "        text-align: right;\n",
       "    }\n",
       "</style>\n",
       "<table border=\"1\" class=\"dataframe\">\n",
       "  <thead>\n",
       "    <tr style=\"text-align: right;\">\n",
       "      <th></th>\n",
       "      <th>danceability</th>\n",
       "      <th>energy</th>\n",
       "      <th>key</th>\n",
       "      <th>loudness</th>\n",
       "      <th>mode</th>\n",
       "      <th>speechiness</th>\n",
       "      <th>acousticness</th>\n",
       "      <th>instrumentalness</th>\n",
       "      <th>liveness</th>\n",
       "      <th>valence</th>\n",
       "      <th>tempo</th>\n",
       "      <th>type</th>\n",
       "      <th>id</th>\n",
       "      <th>uri</th>\n",
       "      <th>track_href</th>\n",
       "      <th>analysis_url</th>\n",
       "      <th>duration_ms</th>\n",
       "      <th>time_signature</th>\n",
       "    </tr>\n",
       "  </thead>\n",
       "  <tbody>\n",
       "    <tr>\n",
       "      <th>0</th>\n",
       "      <td>0.750</td>\n",
       "      <td>0.341</td>\n",
       "      <td>11</td>\n",
       "      <td>-13.368</td>\n",
       "      <td>0</td>\n",
       "      <td>0.0381</td>\n",
       "      <td>0.26700</td>\n",
       "      <td>0.000000</td>\n",
       "      <td>0.0951</td>\n",
       "      <td>0.602</td>\n",
       "      <td>121.999</td>\n",
       "      <td>audio_features</td>\n",
       "      <td>48vEUc5MnUiqtrbclwVZPz</td>\n",
       "      <td>spotify:track:48vEUc5MnUiqtrbclwVZPz</td>\n",
       "      <td>https://api.spotify.com/v1/tracks/48vEUc5MnUiq...</td>\n",
       "      <td>https://api.spotify.com/v1/audio-analysis/48vE...</td>\n",
       "      <td>340874</td>\n",
       "      <td>4</td>\n",
       "    </tr>\n",
       "    <tr>\n",
       "      <th>1</th>\n",
       "      <td>0.787</td>\n",
       "      <td>0.407</td>\n",
       "      <td>6</td>\n",
       "      <td>-15.394</td>\n",
       "      <td>1</td>\n",
       "      <td>0.0846</td>\n",
       "      <td>0.08250</td>\n",
       "      <td>0.000000</td>\n",
       "      <td>0.2490</td>\n",
       "      <td>0.683</td>\n",
       "      <td>139.989</td>\n",
       "      <td>audio_features</td>\n",
       "      <td>4jyHT2uekcfJehrSKDjVrh</td>\n",
       "      <td>spotify:track:4jyHT2uekcfJehrSKDjVrh</td>\n",
       "      <td>https://api.spotify.com/v1/tracks/4jyHT2uekcfJ...</td>\n",
       "      <td>https://api.spotify.com/v1/audio-analysis/4jyH...</td>\n",
       "      <td>390348</td>\n",
       "      <td>4</td>\n",
       "    </tr>\n",
       "    <tr>\n",
       "      <th>2</th>\n",
       "      <td>0.648</td>\n",
       "      <td>0.593</td>\n",
       "      <td>4</td>\n",
       "      <td>-15.789</td>\n",
       "      <td>0</td>\n",
       "      <td>0.2990</td>\n",
       "      <td>0.04460</td>\n",
       "      <td>0.000000</td>\n",
       "      <td>0.2770</td>\n",
       "      <td>0.387</td>\n",
       "      <td>179.883</td>\n",
       "      <td>audio_features</td>\n",
       "      <td>1oSG2DaOa66W0tDhEo12ro</td>\n",
       "      <td>spotify:track:1oSG2DaOa66W0tDhEo12ro</td>\n",
       "      <td>https://api.spotify.com/v1/tracks/1oSG2DaOa66W...</td>\n",
       "      <td>https://api.spotify.com/v1/audio-analysis/1oSG...</td>\n",
       "      <td>254293</td>\n",
       "      <td>4</td>\n",
       "    </tr>\n",
       "    <tr>\n",
       "      <th>3</th>\n",
       "      <td>0.755</td>\n",
       "      <td>0.594</td>\n",
       "      <td>9</td>\n",
       "      <td>-14.460</td>\n",
       "      <td>1</td>\n",
       "      <td>0.0549</td>\n",
       "      <td>0.21600</td>\n",
       "      <td>0.000328</td>\n",
       "      <td>0.0781</td>\n",
       "      <td>0.683</td>\n",
       "      <td>141.946</td>\n",
       "      <td>audio_features</td>\n",
       "      <td>0LT9Ac2e9ngk14UIYTeich</td>\n",
       "      <td>spotify:track:0LT9Ac2e9ngk14UIYTeich</td>\n",
       "      <td>https://api.spotify.com/v1/tracks/0LT9Ac2e9ngk...</td>\n",
       "      <td>https://api.spotify.com/v1/audio-analysis/0LT9...</td>\n",
       "      <td>302572</td>\n",
       "      <td>4</td>\n",
       "    </tr>\n",
       "    <tr>\n",
       "      <th>4</th>\n",
       "      <td>0.702</td>\n",
       "      <td>0.478</td>\n",
       "      <td>10</td>\n",
       "      <td>-10.873</td>\n",
       "      <td>1</td>\n",
       "      <td>0.0363</td>\n",
       "      <td>0.09600</td>\n",
       "      <td>0.000016</td>\n",
       "      <td>0.1350</td>\n",
       "      <td>0.901</td>\n",
       "      <td>155.997</td>\n",
       "      <td>audio_features</td>\n",
       "      <td>11tEwwBYGEjcEvEi7Gw1t0</td>\n",
       "      <td>spotify:track:11tEwwBYGEjcEvEi7Gw1t0</td>\n",
       "      <td>https://api.spotify.com/v1/tracks/11tEwwBYGEjc...</td>\n",
       "      <td>https://api.spotify.com/v1/audio-analysis/11tE...</td>\n",
       "      <td>405603</td>\n",
       "      <td>3</td>\n",
       "    </tr>\n",
       "    <tr>\n",
       "      <th>...</th>\n",
       "      <td>...</td>\n",
       "      <td>...</td>\n",
       "      <td>...</td>\n",
       "      <td>...</td>\n",
       "      <td>...</td>\n",
       "      <td>...</td>\n",
       "      <td>...</td>\n",
       "      <td>...</td>\n",
       "      <td>...</td>\n",
       "      <td>...</td>\n",
       "      <td>...</td>\n",
       "      <td>...</td>\n",
       "      <td>...</td>\n",
       "      <td>...</td>\n",
       "      <td>...</td>\n",
       "      <td>...</td>\n",
       "      <td>...</td>\n",
       "      <td>...</td>\n",
       "    </tr>\n",
       "    <tr>\n",
       "      <th>1820</th>\n",
       "      <td>0.529</td>\n",
       "      <td>0.748</td>\n",
       "      <td>0</td>\n",
       "      <td>-6.108</td>\n",
       "      <td>1</td>\n",
       "      <td>0.0265</td>\n",
       "      <td>0.02260</td>\n",
       "      <td>0.000000</td>\n",
       "      <td>0.2650</td>\n",
       "      <td>0.298</td>\n",
       "      <td>105.490</td>\n",
       "      <td>audio_features</td>\n",
       "      <td>2VYpvo1M90q3zPmuajPsfm</td>\n",
       "      <td>spotify:track:2VYpvo1M90q3zPmuajPsfm</td>\n",
       "      <td>https://api.spotify.com/v1/tracks/2VYpvo1M90q3...</td>\n",
       "      <td>https://api.spotify.com/v1/audio-analysis/2VYp...</td>\n",
       "      <td>195960</td>\n",
       "      <td>4</td>\n",
       "    </tr>\n",
       "    <tr>\n",
       "      <th>1821</th>\n",
       "      <td>0.671</td>\n",
       "      <td>0.739</td>\n",
       "      <td>11</td>\n",
       "      <td>-5.051</td>\n",
       "      <td>1</td>\n",
       "      <td>0.0545</td>\n",
       "      <td>0.33800</td>\n",
       "      <td>0.000000</td>\n",
       "      <td>0.0632</td>\n",
       "      <td>0.430</td>\n",
       "      <td>131.973</td>\n",
       "      <td>audio_features</td>\n",
       "      <td>2iK6RzhARWY8A6YlYPYksZ</td>\n",
       "      <td>spotify:track:2iK6RzhARWY8A6YlYPYksZ</td>\n",
       "      <td>https://api.spotify.com/v1/tracks/2iK6RzhARWY8...</td>\n",
       "      <td>https://api.spotify.com/v1/audio-analysis/2iK6...</td>\n",
       "      <td>218827</td>\n",
       "      <td>4</td>\n",
       "    </tr>\n",
       "    <tr>\n",
       "      <th>1822</th>\n",
       "      <td>0.642</td>\n",
       "      <td>0.475</td>\n",
       "      <td>7</td>\n",
       "      <td>-5.461</td>\n",
       "      <td>1</td>\n",
       "      <td>0.0256</td>\n",
       "      <td>0.04090</td>\n",
       "      <td>0.000000</td>\n",
       "      <td>0.0794</td>\n",
       "      <td>0.559</td>\n",
       "      <td>78.992</td>\n",
       "      <td>audio_features</td>\n",
       "      <td>6aiPCXgBPxlGvOQjyJaGrx</td>\n",
       "      <td>spotify:track:6aiPCXgBPxlGvOQjyJaGrx</td>\n",
       "      <td>https://api.spotify.com/v1/tracks/6aiPCXgBPxlG...</td>\n",
       "      <td>https://api.spotify.com/v1/audio-analysis/6aiP...</td>\n",
       "      <td>222040</td>\n",
       "      <td>4</td>\n",
       "    </tr>\n",
       "    <tr>\n",
       "      <th>1823</th>\n",
       "      <td>0.634</td>\n",
       "      <td>0.597</td>\n",
       "      <td>7</td>\n",
       "      <td>-6.500</td>\n",
       "      <td>1</td>\n",
       "      <td>0.0257</td>\n",
       "      <td>0.00172</td>\n",
       "      <td>0.000033</td>\n",
       "      <td>0.1660</td>\n",
       "      <td>0.406</td>\n",
       "      <td>105.971</td>\n",
       "      <td>audio_features</td>\n",
       "      <td>2fDOyaUqTAGNLSRo0OlSKe</td>\n",
       "      <td>spotify:track:2fDOyaUqTAGNLSRo0OlSKe</td>\n",
       "      <td>https://api.spotify.com/v1/tracks/2fDOyaUqTAGN...</td>\n",
       "      <td>https://api.spotify.com/v1/audio-analysis/2fDO...</td>\n",
       "      <td>230737</td>\n",
       "      <td>4</td>\n",
       "    </tr>\n",
       "    <tr>\n",
       "      <th>1824</th>\n",
       "      <td>0.731</td>\n",
       "      <td>0.508</td>\n",
       "      <td>9</td>\n",
       "      <td>-8.764</td>\n",
       "      <td>1</td>\n",
       "      <td>0.0367</td>\n",
       "      <td>0.64200</td>\n",
       "      <td>0.000000</td>\n",
       "      <td>0.3320</td>\n",
       "      <td>0.599</td>\n",
       "      <td>125.916</td>\n",
       "      <td>audio_features</td>\n",
       "      <td>3eMAUz3LWa17E2WRSI7A1h</td>\n",
       "      <td>spotify:track:3eMAUz3LWa17E2WRSI7A1h</td>\n",
       "      <td>https://api.spotify.com/v1/tracks/3eMAUz3LWa17...</td>\n",
       "      <td>https://api.spotify.com/v1/audio-analysis/3eMA...</td>\n",
       "      <td>245077</td>\n",
       "      <td>4</td>\n",
       "    </tr>\n",
       "  </tbody>\n",
       "</table>\n",
       "<p>1825 rows × 18 columns</p>\n",
       "</div>"
      ],
      "text/plain": [
       "      danceability  energy  key  loudness  mode  speechiness  acousticness  \\\n",
       "0            0.750   0.341   11   -13.368     0       0.0381       0.26700   \n",
       "1            0.787   0.407    6   -15.394     1       0.0846       0.08250   \n",
       "2            0.648   0.593    4   -15.789     0       0.2990       0.04460   \n",
       "3            0.755   0.594    9   -14.460     1       0.0549       0.21600   \n",
       "4            0.702   0.478   10   -10.873     1       0.0363       0.09600   \n",
       "...            ...     ...  ...       ...   ...          ...           ...   \n",
       "1820         0.529   0.748    0    -6.108     1       0.0265       0.02260   \n",
       "1821         0.671   0.739   11    -5.051     1       0.0545       0.33800   \n",
       "1822         0.642   0.475    7    -5.461     1       0.0256       0.04090   \n",
       "1823         0.634   0.597    7    -6.500     1       0.0257       0.00172   \n",
       "1824         0.731   0.508    9    -8.764     1       0.0367       0.64200   \n",
       "\n",
       "      instrumentalness  liveness  valence    tempo            type  \\\n",
       "0             0.000000    0.0951    0.602  121.999  audio_features   \n",
       "1             0.000000    0.2490    0.683  139.989  audio_features   \n",
       "2             0.000000    0.2770    0.387  179.883  audio_features   \n",
       "3             0.000328    0.0781    0.683  141.946  audio_features   \n",
       "4             0.000016    0.1350    0.901  155.997  audio_features   \n",
       "...                ...       ...      ...      ...             ...   \n",
       "1820          0.000000    0.2650    0.298  105.490  audio_features   \n",
       "1821          0.000000    0.0632    0.430  131.973  audio_features   \n",
       "1822          0.000000    0.0794    0.559   78.992  audio_features   \n",
       "1823          0.000033    0.1660    0.406  105.971  audio_features   \n",
       "1824          0.000000    0.3320    0.599  125.916  audio_features   \n",
       "\n",
       "                          id                                   uri  \\\n",
       "0     48vEUc5MnUiqtrbclwVZPz  spotify:track:48vEUc5MnUiqtrbclwVZPz   \n",
       "1     4jyHT2uekcfJehrSKDjVrh  spotify:track:4jyHT2uekcfJehrSKDjVrh   \n",
       "2     1oSG2DaOa66W0tDhEo12ro  spotify:track:1oSG2DaOa66W0tDhEo12ro   \n",
       "3     0LT9Ac2e9ngk14UIYTeich  spotify:track:0LT9Ac2e9ngk14UIYTeich   \n",
       "4     11tEwwBYGEjcEvEi7Gw1t0  spotify:track:11tEwwBYGEjcEvEi7Gw1t0   \n",
       "...                      ...                                   ...   \n",
       "1820  2VYpvo1M90q3zPmuajPsfm  spotify:track:2VYpvo1M90q3zPmuajPsfm   \n",
       "1821  2iK6RzhARWY8A6YlYPYksZ  spotify:track:2iK6RzhARWY8A6YlYPYksZ   \n",
       "1822  6aiPCXgBPxlGvOQjyJaGrx  spotify:track:6aiPCXgBPxlGvOQjyJaGrx   \n",
       "1823  2fDOyaUqTAGNLSRo0OlSKe  spotify:track:2fDOyaUqTAGNLSRo0OlSKe   \n",
       "1824  3eMAUz3LWa17E2WRSI7A1h  spotify:track:3eMAUz3LWa17E2WRSI7A1h   \n",
       "\n",
       "                                             track_href  \\\n",
       "0     https://api.spotify.com/v1/tracks/48vEUc5MnUiq...   \n",
       "1     https://api.spotify.com/v1/tracks/4jyHT2uekcfJ...   \n",
       "2     https://api.spotify.com/v1/tracks/1oSG2DaOa66W...   \n",
       "3     https://api.spotify.com/v1/tracks/0LT9Ac2e9ngk...   \n",
       "4     https://api.spotify.com/v1/tracks/11tEwwBYGEjc...   \n",
       "...                                                 ...   \n",
       "1820  https://api.spotify.com/v1/tracks/2VYpvo1M90q3...   \n",
       "1821  https://api.spotify.com/v1/tracks/2iK6RzhARWY8...   \n",
       "1822  https://api.spotify.com/v1/tracks/6aiPCXgBPxlG...   \n",
       "1823  https://api.spotify.com/v1/tracks/2fDOyaUqTAGN...   \n",
       "1824  https://api.spotify.com/v1/tracks/3eMAUz3LWa17...   \n",
       "\n",
       "                                           analysis_url  duration_ms  \\\n",
       "0     https://api.spotify.com/v1/audio-analysis/48vE...       340874   \n",
       "1     https://api.spotify.com/v1/audio-analysis/4jyH...       390348   \n",
       "2     https://api.spotify.com/v1/audio-analysis/1oSG...       254293   \n",
       "3     https://api.spotify.com/v1/audio-analysis/0LT9...       302572   \n",
       "4     https://api.spotify.com/v1/audio-analysis/11tE...       405603   \n",
       "...                                                 ...          ...   \n",
       "1820  https://api.spotify.com/v1/audio-analysis/2VYp...       195960   \n",
       "1821  https://api.spotify.com/v1/audio-analysis/2iK6...       218827   \n",
       "1822  https://api.spotify.com/v1/audio-analysis/6aiP...       222040   \n",
       "1823  https://api.spotify.com/v1/audio-analysis/2fDO...       230737   \n",
       "1824  https://api.spotify.com/v1/audio-analysis/3eMA...       245077   \n",
       "\n",
       "      time_signature  \n",
       "0                  4  \n",
       "1                  4  \n",
       "2                  4  \n",
       "3                  4  \n",
       "4                  3  \n",
       "...              ...  \n",
       "1820               4  \n",
       "1821               4  \n",
       "1822               4  \n",
       "1823               4  \n",
       "1824               4  \n",
       "\n",
       "[1825 rows x 18 columns]"
      ]
     },
     "execution_count": 71,
     "metadata": {},
     "output_type": "execute_result"
    }
   ],
   "source": [
    "features_df"
   ]
  },
  {
   "cell_type": "code",
   "execution_count": 72,
   "metadata": {},
   "outputs": [
    {
     "data": {
      "text/html": [
       "<div>\n",
       "<style scoped>\n",
       "    .dataframe tbody tr th:only-of-type {\n",
       "        vertical-align: middle;\n",
       "    }\n",
       "\n",
       "    .dataframe tbody tr th {\n",
       "        vertical-align: top;\n",
       "    }\n",
       "\n",
       "    .dataframe thead th {\n",
       "        text-align: right;\n",
       "    }\n",
       "</style>\n",
       "<table border=\"1\" class=\"dataframe\">\n",
       "  <thead>\n",
       "    <tr style=\"text-align: right;\">\n",
       "      <th></th>\n",
       "      <th>0</th>\n",
       "      <th>0</th>\n",
       "      <th>danceability</th>\n",
       "      <th>energy</th>\n",
       "      <th>key</th>\n",
       "      <th>loudness</th>\n",
       "      <th>mode</th>\n",
       "      <th>speechiness</th>\n",
       "      <th>acousticness</th>\n",
       "      <th>instrumentalness</th>\n",
       "      <th>liveness</th>\n",
       "      <th>valence</th>\n",
       "      <th>tempo</th>\n",
       "      <th>type</th>\n",
       "      <th>id</th>\n",
       "      <th>uri</th>\n",
       "      <th>track_href</th>\n",
       "      <th>analysis_url</th>\n",
       "      <th>duration_ms</th>\n",
       "      <th>time_signature</th>\n",
       "    </tr>\n",
       "  </thead>\n",
       "  <tbody>\n",
       "    <tr>\n",
       "      <th>0</th>\n",
       "      <td>A.R. Rahman</td>\n",
       "      <td>Poongatrile (From \"Uyire\")</td>\n",
       "      <td>0.750</td>\n",
       "      <td>0.341</td>\n",
       "      <td>11</td>\n",
       "      <td>-13.368</td>\n",
       "      <td>0</td>\n",
       "      <td>0.0381</td>\n",
       "      <td>0.26700</td>\n",
       "      <td>0.000000</td>\n",
       "      <td>0.0951</td>\n",
       "      <td>0.602</td>\n",
       "      <td>121.999</td>\n",
       "      <td>audio_features</td>\n",
       "      <td>48vEUc5MnUiqtrbclwVZPz</td>\n",
       "      <td>spotify:track:48vEUc5MnUiqtrbclwVZPz</td>\n",
       "      <td>https://api.spotify.com/v1/tracks/48vEUc5MnUiq...</td>\n",
       "      <td>https://api.spotify.com/v1/audio-analysis/48vE...</td>\n",
       "      <td>340874</td>\n",
       "      <td>4</td>\n",
       "    </tr>\n",
       "    <tr>\n",
       "      <th>1</th>\n",
       "      <td>A.R. Rahman</td>\n",
       "      <td>Kaadhal yogi (From \"Thaalam\")</td>\n",
       "      <td>0.787</td>\n",
       "      <td>0.407</td>\n",
       "      <td>6</td>\n",
       "      <td>-15.394</td>\n",
       "      <td>1</td>\n",
       "      <td>0.0846</td>\n",
       "      <td>0.08250</td>\n",
       "      <td>0.000000</td>\n",
       "      <td>0.2490</td>\n",
       "      <td>0.683</td>\n",
       "      <td>139.989</td>\n",
       "      <td>audio_features</td>\n",
       "      <td>4jyHT2uekcfJehrSKDjVrh</td>\n",
       "      <td>spotify:track:4jyHT2uekcfJehrSKDjVrh</td>\n",
       "      <td>https://api.spotify.com/v1/tracks/4jyHT2uekcfJ...</td>\n",
       "      <td>https://api.spotify.com/v1/audio-analysis/4jyH...</td>\n",
       "      <td>390348</td>\n",
       "      <td>4</td>\n",
       "    </tr>\n",
       "    <tr>\n",
       "      <th>2</th>\n",
       "      <td>A.R. Rahman</td>\n",
       "      <td>Thayya Thayya (From \"Uyire\")</td>\n",
       "      <td>0.648</td>\n",
       "      <td>0.593</td>\n",
       "      <td>4</td>\n",
       "      <td>-15.789</td>\n",
       "      <td>0</td>\n",
       "      <td>0.2990</td>\n",
       "      <td>0.04460</td>\n",
       "      <td>0.000000</td>\n",
       "      <td>0.2770</td>\n",
       "      <td>0.387</td>\n",
       "      <td>179.883</td>\n",
       "      <td>audio_features</td>\n",
       "      <td>1oSG2DaOa66W0tDhEo12ro</td>\n",
       "      <td>spotify:track:1oSG2DaOa66W0tDhEo12ro</td>\n",
       "      <td>https://api.spotify.com/v1/tracks/1oSG2DaOa66W...</td>\n",
       "      <td>https://api.spotify.com/v1/audio-analysis/1oSG...</td>\n",
       "      <td>254293</td>\n",
       "      <td>4</td>\n",
       "    </tr>\n",
       "    <tr>\n",
       "      <th>3</th>\n",
       "      <td>A.R. Rahman</td>\n",
       "      <td>Nenjinile (From \"Uyire\")</td>\n",
       "      <td>0.755</td>\n",
       "      <td>0.594</td>\n",
       "      <td>9</td>\n",
       "      <td>-14.460</td>\n",
       "      <td>1</td>\n",
       "      <td>0.0549</td>\n",
       "      <td>0.21600</td>\n",
       "      <td>0.000328</td>\n",
       "      <td>0.0781</td>\n",
       "      <td>0.683</td>\n",
       "      <td>141.946</td>\n",
       "      <td>audio_features</td>\n",
       "      <td>0LT9Ac2e9ngk14UIYTeich</td>\n",
       "      <td>spotify:track:0LT9Ac2e9ngk14UIYTeich</td>\n",
       "      <td>https://api.spotify.com/v1/tracks/0LT9Ac2e9ngk...</td>\n",
       "      <td>https://api.spotify.com/v1/audio-analysis/0LT9...</td>\n",
       "      <td>302572</td>\n",
       "      <td>4</td>\n",
       "    </tr>\n",
       "    <tr>\n",
       "      <th>4</th>\n",
       "      <td>A.R. Rahman</td>\n",
       "      <td>Eetchi Elumichi (From \"Taj Mahal\")</td>\n",
       "      <td>0.702</td>\n",
       "      <td>0.478</td>\n",
       "      <td>10</td>\n",
       "      <td>-10.873</td>\n",
       "      <td>1</td>\n",
       "      <td>0.0363</td>\n",
       "      <td>0.09600</td>\n",
       "      <td>0.000016</td>\n",
       "      <td>0.1350</td>\n",
       "      <td>0.901</td>\n",
       "      <td>155.997</td>\n",
       "      <td>audio_features</td>\n",
       "      <td>11tEwwBYGEjcEvEi7Gw1t0</td>\n",
       "      <td>spotify:track:11tEwwBYGEjcEvEi7Gw1t0</td>\n",
       "      <td>https://api.spotify.com/v1/tracks/11tEwwBYGEjc...</td>\n",
       "      <td>https://api.spotify.com/v1/audio-analysis/11tE...</td>\n",
       "      <td>405603</td>\n",
       "      <td>3</td>\n",
       "    </tr>\n",
       "    <tr>\n",
       "      <th>...</th>\n",
       "      <td>...</td>\n",
       "      <td>...</td>\n",
       "      <td>...</td>\n",
       "      <td>...</td>\n",
       "      <td>...</td>\n",
       "      <td>...</td>\n",
       "      <td>...</td>\n",
       "      <td>...</td>\n",
       "      <td>...</td>\n",
       "      <td>...</td>\n",
       "      <td>...</td>\n",
       "      <td>...</td>\n",
       "      <td>...</td>\n",
       "      <td>...</td>\n",
       "      <td>...</td>\n",
       "      <td>...</td>\n",
       "      <td>...</td>\n",
       "      <td>...</td>\n",
       "      <td>...</td>\n",
       "      <td>...</td>\n",
       "    </tr>\n",
       "    <tr>\n",
       "      <th>1820</th>\n",
       "      <td>Backstreet Boys</td>\n",
       "      <td>Bigger</td>\n",
       "      <td>0.529</td>\n",
       "      <td>0.748</td>\n",
       "      <td>0</td>\n",
       "      <td>-6.108</td>\n",
       "      <td>1</td>\n",
       "      <td>0.0265</td>\n",
       "      <td>0.02260</td>\n",
       "      <td>0.000000</td>\n",
       "      <td>0.2650</td>\n",
       "      <td>0.298</td>\n",
       "      <td>105.490</td>\n",
       "      <td>audio_features</td>\n",
       "      <td>2VYpvo1M90q3zPmuajPsfm</td>\n",
       "      <td>spotify:track:2VYpvo1M90q3zPmuajPsfm</td>\n",
       "      <td>https://api.spotify.com/v1/tracks/2VYpvo1M90q3...</td>\n",
       "      <td>https://api.spotify.com/v1/audio-analysis/2VYp...</td>\n",
       "      <td>195960</td>\n",
       "      <td>4</td>\n",
       "    </tr>\n",
       "    <tr>\n",
       "      <th>1821</th>\n",
       "      <td>Backstreet Boys</td>\n",
       "      <td>Nobody Else</td>\n",
       "      <td>0.671</td>\n",
       "      <td>0.739</td>\n",
       "      <td>11</td>\n",
       "      <td>-5.051</td>\n",
       "      <td>1</td>\n",
       "      <td>0.0545</td>\n",
       "      <td>0.33800</td>\n",
       "      <td>0.000000</td>\n",
       "      <td>0.0632</td>\n",
       "      <td>0.430</td>\n",
       "      <td>131.973</td>\n",
       "      <td>audio_features</td>\n",
       "      <td>2iK6RzhARWY8A6YlYPYksZ</td>\n",
       "      <td>spotify:track:2iK6RzhARWY8A6YlYPYksZ</td>\n",
       "      <td>https://api.spotify.com/v1/tracks/2iK6RzhARWY8...</td>\n",
       "      <td>https://api.spotify.com/v1/audio-analysis/2iK6...</td>\n",
       "      <td>218827</td>\n",
       "      <td>4</td>\n",
       "    </tr>\n",
       "    <tr>\n",
       "      <th>1822</th>\n",
       "      <td>Backstreet Boys</td>\n",
       "      <td>Just Like You Like It</td>\n",
       "      <td>0.642</td>\n",
       "      <td>0.475</td>\n",
       "      <td>7</td>\n",
       "      <td>-5.461</td>\n",
       "      <td>1</td>\n",
       "      <td>0.0256</td>\n",
       "      <td>0.04090</td>\n",
       "      <td>0.000000</td>\n",
       "      <td>0.0794</td>\n",
       "      <td>0.559</td>\n",
       "      <td>78.992</td>\n",
       "      <td>audio_features</td>\n",
       "      <td>6aiPCXgBPxlGvOQjyJaGrx</td>\n",
       "      <td>spotify:track:6aiPCXgBPxlGvOQjyJaGrx</td>\n",
       "      <td>https://api.spotify.com/v1/tracks/6aiPCXgBPxlG...</td>\n",
       "      <td>https://api.spotify.com/v1/audio-analysis/6aiP...</td>\n",
       "      <td>222040</td>\n",
       "      <td>4</td>\n",
       "    </tr>\n",
       "    <tr>\n",
       "      <th>1823</th>\n",
       "      <td>Backstreet Boys</td>\n",
       "      <td>Breathe</td>\n",
       "      <td>0.634</td>\n",
       "      <td>0.597</td>\n",
       "      <td>7</td>\n",
       "      <td>-6.500</td>\n",
       "      <td>1</td>\n",
       "      <td>0.0257</td>\n",
       "      <td>0.00172</td>\n",
       "      <td>0.000033</td>\n",
       "      <td>0.1660</td>\n",
       "      <td>0.406</td>\n",
       "      <td>105.971</td>\n",
       "      <td>audio_features</td>\n",
       "      <td>2fDOyaUqTAGNLSRo0OlSKe</td>\n",
       "      <td>spotify:track:2fDOyaUqTAGNLSRo0OlSKe</td>\n",
       "      <td>https://api.spotify.com/v1/tracks/2fDOyaUqTAGN...</td>\n",
       "      <td>https://api.spotify.com/v1/audio-analysis/2fDO...</td>\n",
       "      <td>230737</td>\n",
       "      <td>4</td>\n",
       "    </tr>\n",
       "    <tr>\n",
       "      <th>1824</th>\n",
       "      <td>Backstreet Boys</td>\n",
       "      <td>Madeleine</td>\n",
       "      <td>0.731</td>\n",
       "      <td>0.508</td>\n",
       "      <td>9</td>\n",
       "      <td>-8.764</td>\n",
       "      <td>1</td>\n",
       "      <td>0.0367</td>\n",
       "      <td>0.64200</td>\n",
       "      <td>0.000000</td>\n",
       "      <td>0.3320</td>\n",
       "      <td>0.599</td>\n",
       "      <td>125.916</td>\n",
       "      <td>audio_features</td>\n",
       "      <td>3eMAUz3LWa17E2WRSI7A1h</td>\n",
       "      <td>spotify:track:3eMAUz3LWa17E2WRSI7A1h</td>\n",
       "      <td>https://api.spotify.com/v1/tracks/3eMAUz3LWa17...</td>\n",
       "      <td>https://api.spotify.com/v1/audio-analysis/3eMA...</td>\n",
       "      <td>245077</td>\n",
       "      <td>4</td>\n",
       "    </tr>\n",
       "  </tbody>\n",
       "</table>\n",
       "<p>1825 rows × 20 columns</p>\n",
       "</div>"
      ],
      "text/plain": [
       "                    0                                   0  danceability  \\\n",
       "0         A.R. Rahman          Poongatrile (From \"Uyire\")         0.750   \n",
       "1         A.R. Rahman       Kaadhal yogi (From \"Thaalam\")         0.787   \n",
       "2         A.R. Rahman        Thayya Thayya (From \"Uyire\")         0.648   \n",
       "3         A.R. Rahman            Nenjinile (From \"Uyire\")         0.755   \n",
       "4         A.R. Rahman  Eetchi Elumichi (From \"Taj Mahal\")         0.702   \n",
       "...               ...                                 ...           ...   \n",
       "1820  Backstreet Boys                              Bigger         0.529   \n",
       "1821  Backstreet Boys                         Nobody Else         0.671   \n",
       "1822  Backstreet Boys               Just Like You Like It         0.642   \n",
       "1823  Backstreet Boys                             Breathe         0.634   \n",
       "1824  Backstreet Boys                           Madeleine         0.731   \n",
       "\n",
       "      energy  key  loudness  mode  speechiness  acousticness  \\\n",
       "0      0.341   11   -13.368     0       0.0381       0.26700   \n",
       "1      0.407    6   -15.394     1       0.0846       0.08250   \n",
       "2      0.593    4   -15.789     0       0.2990       0.04460   \n",
       "3      0.594    9   -14.460     1       0.0549       0.21600   \n",
       "4      0.478   10   -10.873     1       0.0363       0.09600   \n",
       "...      ...  ...       ...   ...          ...           ...   \n",
       "1820   0.748    0    -6.108     1       0.0265       0.02260   \n",
       "1821   0.739   11    -5.051     1       0.0545       0.33800   \n",
       "1822   0.475    7    -5.461     1       0.0256       0.04090   \n",
       "1823   0.597    7    -6.500     1       0.0257       0.00172   \n",
       "1824   0.508    9    -8.764     1       0.0367       0.64200   \n",
       "\n",
       "      instrumentalness  liveness  valence    tempo            type  \\\n",
       "0             0.000000    0.0951    0.602  121.999  audio_features   \n",
       "1             0.000000    0.2490    0.683  139.989  audio_features   \n",
       "2             0.000000    0.2770    0.387  179.883  audio_features   \n",
       "3             0.000328    0.0781    0.683  141.946  audio_features   \n",
       "4             0.000016    0.1350    0.901  155.997  audio_features   \n",
       "...                ...       ...      ...      ...             ...   \n",
       "1820          0.000000    0.2650    0.298  105.490  audio_features   \n",
       "1821          0.000000    0.0632    0.430  131.973  audio_features   \n",
       "1822          0.000000    0.0794    0.559   78.992  audio_features   \n",
       "1823          0.000033    0.1660    0.406  105.971  audio_features   \n",
       "1824          0.000000    0.3320    0.599  125.916  audio_features   \n",
       "\n",
       "                          id                                   uri  \\\n",
       "0     48vEUc5MnUiqtrbclwVZPz  spotify:track:48vEUc5MnUiqtrbclwVZPz   \n",
       "1     4jyHT2uekcfJehrSKDjVrh  spotify:track:4jyHT2uekcfJehrSKDjVrh   \n",
       "2     1oSG2DaOa66W0tDhEo12ro  spotify:track:1oSG2DaOa66W0tDhEo12ro   \n",
       "3     0LT9Ac2e9ngk14UIYTeich  spotify:track:0LT9Ac2e9ngk14UIYTeich   \n",
       "4     11tEwwBYGEjcEvEi7Gw1t0  spotify:track:11tEwwBYGEjcEvEi7Gw1t0   \n",
       "...                      ...                                   ...   \n",
       "1820  2VYpvo1M90q3zPmuajPsfm  spotify:track:2VYpvo1M90q3zPmuajPsfm   \n",
       "1821  2iK6RzhARWY8A6YlYPYksZ  spotify:track:2iK6RzhARWY8A6YlYPYksZ   \n",
       "1822  6aiPCXgBPxlGvOQjyJaGrx  spotify:track:6aiPCXgBPxlGvOQjyJaGrx   \n",
       "1823  2fDOyaUqTAGNLSRo0OlSKe  spotify:track:2fDOyaUqTAGNLSRo0OlSKe   \n",
       "1824  3eMAUz3LWa17E2WRSI7A1h  spotify:track:3eMAUz3LWa17E2WRSI7A1h   \n",
       "\n",
       "                                             track_href  \\\n",
       "0     https://api.spotify.com/v1/tracks/48vEUc5MnUiq...   \n",
       "1     https://api.spotify.com/v1/tracks/4jyHT2uekcfJ...   \n",
       "2     https://api.spotify.com/v1/tracks/1oSG2DaOa66W...   \n",
       "3     https://api.spotify.com/v1/tracks/0LT9Ac2e9ngk...   \n",
       "4     https://api.spotify.com/v1/tracks/11tEwwBYGEjc...   \n",
       "...                                                 ...   \n",
       "1820  https://api.spotify.com/v1/tracks/2VYpvo1M90q3...   \n",
       "1821  https://api.spotify.com/v1/tracks/2iK6RzhARWY8...   \n",
       "1822  https://api.spotify.com/v1/tracks/6aiPCXgBPxlG...   \n",
       "1823  https://api.spotify.com/v1/tracks/2fDOyaUqTAGN...   \n",
       "1824  https://api.spotify.com/v1/tracks/3eMAUz3LWa17...   \n",
       "\n",
       "                                           analysis_url  duration_ms  \\\n",
       "0     https://api.spotify.com/v1/audio-analysis/48vE...       340874   \n",
       "1     https://api.spotify.com/v1/audio-analysis/4jyH...       390348   \n",
       "2     https://api.spotify.com/v1/audio-analysis/1oSG...       254293   \n",
       "3     https://api.spotify.com/v1/audio-analysis/0LT9...       302572   \n",
       "4     https://api.spotify.com/v1/audio-analysis/11tE...       405603   \n",
       "...                                                 ...          ...   \n",
       "1820  https://api.spotify.com/v1/audio-analysis/2VYp...       195960   \n",
       "1821  https://api.spotify.com/v1/audio-analysis/2iK6...       218827   \n",
       "1822  https://api.spotify.com/v1/audio-analysis/6aiP...       222040   \n",
       "1823  https://api.spotify.com/v1/audio-analysis/2fDO...       230737   \n",
       "1824  https://api.spotify.com/v1/audio-analysis/3eMA...       245077   \n",
       "\n",
       "      time_signature  \n",
       "0                  4  \n",
       "1                  4  \n",
       "2                  4  \n",
       "3                  4  \n",
       "4                  3  \n",
       "...              ...  \n",
       "1820               4  \n",
       "1821               4  \n",
       "1822               4  \n",
       "1823               4  \n",
       "1824               4  \n",
       "\n",
       "[1825 rows x 20 columns]"
      ]
     },
     "execution_count": 72,
     "metadata": {},
     "output_type": "execute_result"
    }
   ],
   "source": [
    "data = pd.concat((playlist_artist_df,playlist_track_df,features_df),axis=1)\n",
    "data"
   ]
  },
  {
   "cell_type": "code",
   "execution_count": 73,
   "metadata": {},
   "outputs": [
    {
     "data": {
      "text/plain": [
       "Index([                 0,                  0,     'danceability',\n",
       "                 'energy',              'key',         'loudness',\n",
       "                   'mode',      'speechiness',     'acousticness',\n",
       "       'instrumentalness',         'liveness',          'valence',\n",
       "                  'tempo',             'type',               'id',\n",
       "                    'uri',       'track_href',     'analysis_url',\n",
       "            'duration_ms',   'time_signature'],\n",
       "      dtype='object')"
      ]
     },
     "execution_count": 73,
     "metadata": {},
     "output_type": "execute_result"
    }
   ],
   "source": [
    "data.columns"
   ]
  },
  {
   "cell_type": "code",
   "execution_count": 74,
   "metadata": {},
   "outputs": [],
   "source": [
    "data.columns = [                 'artist',                  'title',     'danceability',\n",
    "                 'energy',              'key',         'loudness',\n",
    "                   'mode',      'speechiness',     'acousticness',\n",
    "       'instrumentalness',         'liveness',          'valence',\n",
    "                  'tempo',             'type',               'id',\n",
    "                    'uri',       'track_href',     'analysis_url',\n",
    "            'duration_ms',   'time_signature']"
   ]
  },
  {
   "cell_type": "code",
   "execution_count": 75,
   "metadata": {},
   "outputs": [
    {
     "data": {
      "text/plain": [
       "Index(['artist', 'title', 'danceability', 'energy', 'key', 'loudness', 'mode',\n",
       "       'speechiness', 'acousticness', 'instrumentalness', 'liveness',\n",
       "       'valence', 'tempo', 'type', 'id', 'uri', 'track_href', 'analysis_url',\n",
       "       'duration_ms', 'time_signature'],\n",
       "      dtype='object')"
      ]
     },
     "execution_count": 75,
     "metadata": {},
     "output_type": "execute_result"
    }
   ],
   "source": [
    "data.columns"
   ]
  },
  {
   "cell_type": "code",
   "execution_count": 76,
   "metadata": {},
   "outputs": [],
   "source": [
    "data = data.drop(['type','id','uri','track_href','analysis_url','duration_ms','time_signature'], axis =1)\n"
   ]
  },
  {
   "cell_type": "code",
   "execution_count": 77,
   "metadata": {},
   "outputs": [
    {
     "data": {
      "text/html": [
       "<div>\n",
       "<style scoped>\n",
       "    .dataframe tbody tr th:only-of-type {\n",
       "        vertical-align: middle;\n",
       "    }\n",
       "\n",
       "    .dataframe tbody tr th {\n",
       "        vertical-align: top;\n",
       "    }\n",
       "\n",
       "    .dataframe thead th {\n",
       "        text-align: right;\n",
       "    }\n",
       "</style>\n",
       "<table border=\"1\" class=\"dataframe\">\n",
       "  <thead>\n",
       "    <tr style=\"text-align: right;\">\n",
       "      <th></th>\n",
       "      <th>artist</th>\n",
       "      <th>title</th>\n",
       "      <th>danceability</th>\n",
       "      <th>energy</th>\n",
       "      <th>key</th>\n",
       "      <th>loudness</th>\n",
       "      <th>mode</th>\n",
       "      <th>speechiness</th>\n",
       "      <th>acousticness</th>\n",
       "      <th>instrumentalness</th>\n",
       "      <th>liveness</th>\n",
       "      <th>valence</th>\n",
       "      <th>tempo</th>\n",
       "    </tr>\n",
       "  </thead>\n",
       "  <tbody>\n",
       "    <tr>\n",
       "      <th>0</th>\n",
       "      <td>A.R. Rahman</td>\n",
       "      <td>Poongatrile (From \"Uyire\")</td>\n",
       "      <td>0.750</td>\n",
       "      <td>0.341</td>\n",
       "      <td>11</td>\n",
       "      <td>-13.368</td>\n",
       "      <td>0</td>\n",
       "      <td>0.0381</td>\n",
       "      <td>0.2670</td>\n",
       "      <td>0.000000</td>\n",
       "      <td>0.0951</td>\n",
       "      <td>0.602</td>\n",
       "      <td>121.999</td>\n",
       "    </tr>\n",
       "    <tr>\n",
       "      <th>1</th>\n",
       "      <td>A.R. Rahman</td>\n",
       "      <td>Kaadhal yogi (From \"Thaalam\")</td>\n",
       "      <td>0.787</td>\n",
       "      <td>0.407</td>\n",
       "      <td>6</td>\n",
       "      <td>-15.394</td>\n",
       "      <td>1</td>\n",
       "      <td>0.0846</td>\n",
       "      <td>0.0825</td>\n",
       "      <td>0.000000</td>\n",
       "      <td>0.2490</td>\n",
       "      <td>0.683</td>\n",
       "      <td>139.989</td>\n",
       "    </tr>\n",
       "    <tr>\n",
       "      <th>2</th>\n",
       "      <td>A.R. Rahman</td>\n",
       "      <td>Thayya Thayya (From \"Uyire\")</td>\n",
       "      <td>0.648</td>\n",
       "      <td>0.593</td>\n",
       "      <td>4</td>\n",
       "      <td>-15.789</td>\n",
       "      <td>0</td>\n",
       "      <td>0.2990</td>\n",
       "      <td>0.0446</td>\n",
       "      <td>0.000000</td>\n",
       "      <td>0.2770</td>\n",
       "      <td>0.387</td>\n",
       "      <td>179.883</td>\n",
       "    </tr>\n",
       "    <tr>\n",
       "      <th>3</th>\n",
       "      <td>A.R. Rahman</td>\n",
       "      <td>Nenjinile (From \"Uyire\")</td>\n",
       "      <td>0.755</td>\n",
       "      <td>0.594</td>\n",
       "      <td>9</td>\n",
       "      <td>-14.460</td>\n",
       "      <td>1</td>\n",
       "      <td>0.0549</td>\n",
       "      <td>0.2160</td>\n",
       "      <td>0.000328</td>\n",
       "      <td>0.0781</td>\n",
       "      <td>0.683</td>\n",
       "      <td>141.946</td>\n",
       "    </tr>\n",
       "    <tr>\n",
       "      <th>4</th>\n",
       "      <td>A.R. Rahman</td>\n",
       "      <td>Eetchi Elumichi (From \"Taj Mahal\")</td>\n",
       "      <td>0.702</td>\n",
       "      <td>0.478</td>\n",
       "      <td>10</td>\n",
       "      <td>-10.873</td>\n",
       "      <td>1</td>\n",
       "      <td>0.0363</td>\n",
       "      <td>0.0960</td>\n",
       "      <td>0.000016</td>\n",
       "      <td>0.1350</td>\n",
       "      <td>0.901</td>\n",
       "      <td>155.997</td>\n",
       "    </tr>\n",
       "  </tbody>\n",
       "</table>\n",
       "</div>"
      ],
      "text/plain": [
       "        artist                               title  danceability  energy  key  \\\n",
       "0  A.R. Rahman          Poongatrile (From \"Uyire\")         0.750   0.341   11   \n",
       "1  A.R. Rahman       Kaadhal yogi (From \"Thaalam\")         0.787   0.407    6   \n",
       "2  A.R. Rahman        Thayya Thayya (From \"Uyire\")         0.648   0.593    4   \n",
       "3  A.R. Rahman            Nenjinile (From \"Uyire\")         0.755   0.594    9   \n",
       "4  A.R. Rahman  Eetchi Elumichi (From \"Taj Mahal\")         0.702   0.478   10   \n",
       "\n",
       "   loudness  mode  speechiness  acousticness  instrumentalness  liveness  \\\n",
       "0   -13.368     0       0.0381        0.2670          0.000000    0.0951   \n",
       "1   -15.394     1       0.0846        0.0825          0.000000    0.2490   \n",
       "2   -15.789     0       0.2990        0.0446          0.000000    0.2770   \n",
       "3   -14.460     1       0.0549        0.2160          0.000328    0.0781   \n",
       "4   -10.873     1       0.0363        0.0960          0.000016    0.1350   \n",
       "\n",
       "   valence    tempo  \n",
       "0    0.602  121.999  \n",
       "1    0.683  139.989  \n",
       "2    0.387  179.883  \n",
       "3    0.683  141.946  \n",
       "4    0.901  155.997  "
      ]
     },
     "execution_count": 77,
     "metadata": {},
     "output_type": "execute_result"
    }
   ],
   "source": [
    "data.head()"
   ]
  },
  {
   "cell_type": "markdown",
   "metadata": {},
   "source": [
    "# Extract all  numericals from the data"
   ]
  },
  {
   "cell_type": "code",
   "execution_count": 78,
   "metadata": {},
   "outputs": [],
   "source": [
    "numerical = data.select_dtypes(exclude = object)\n"
   ]
  },
  {
   "cell_type": "code",
   "execution_count": 79,
   "metadata": {},
   "outputs": [
    {
     "data": {
      "text/plain": [
       "<bound method NDFrame.head of       danceability    energy       key  loudness      mode  speechiness  \\\n",
       "0         0.866434 -1.408659  1.624250 -1.586082 -1.303727    -0.465553   \n",
       "1         1.097049 -1.073692  0.183752 -2.206173  0.767032     0.363261   \n",
       "2         0.230686 -0.129696 -0.392447 -2.327070 -1.303727     4.184722   \n",
       "3         0.897598 -0.124620  1.048051 -1.920307  0.767032    -0.166111   \n",
       "4         0.567259 -0.713349  1.336151 -0.822446  0.767032    -0.497637   \n",
       "...            ...       ...       ...       ...       ...          ...   \n",
       "1820     -0.511020  0.656968 -1.544845  0.635961  0.767032    -0.672312   \n",
       "1821      0.374041  0.611291  1.624250  0.959474  0.767032    -0.173240   \n",
       "1822      0.193289 -0.728575  0.471852  0.833986  0.767032    -0.688353   \n",
       "1823      0.143427 -0.109395  0.471852  0.515983  0.767032    -0.686571   \n",
       "1824      0.748011 -0.561092  1.048051 -0.176952  0.767032    -0.490507   \n",
       "\n",
       "      acousticness  instrumentalness  liveness   valence     tempo  \n",
       "0        -0.317836         -0.195922 -0.554899  0.150839  0.176864  \n",
       "1        -0.957858         -0.195922  0.442768  0.482958  0.817039  \n",
       "2        -1.089332         -0.195922  0.624279 -0.730712  2.236668  \n",
       "3        -0.494753         -0.192657 -0.665102  0.482958  0.886679  \n",
       "4        -0.911028         -0.195765 -0.296245  1.376809  1.386684  \n",
       "...            ...               ...       ...       ...       ...  \n",
       "1820     -1.165649         -0.195922  0.546488 -1.095633 -0.410609  \n",
       "1821     -0.071540         -0.195922 -0.761692 -0.554402  0.531789  \n",
       "1822     -1.102167         -0.195922 -0.656675 -0.025472 -1.353541  \n",
       "1823     -1.238081         -0.195594 -0.095285 -0.652808 -0.393492  \n",
       "1824      0.983022         -0.195922  0.980820  0.138538  0.316251  \n",
       "\n",
       "[1825 rows x 11 columns]>"
      ]
     },
     "execution_count": 79,
     "metadata": {},
     "output_type": "execute_result"
    }
   ],
   "source": [
    "from sklearn.preprocessing import StandardScaler\n",
    "Standardtransformer = StandardScaler().fit(numerical)\n",
    "x_standardized = Standardtransformer.transform(numerical)\n",
    "x_standardized.shape\n",
    "x_standardized = pd.DataFrame(x_standardized,columns=numerical.columns)\n",
    "x_standardized.head"
   ]
  },
  {
   "cell_type": "code",
   "execution_count": 80,
   "metadata": {},
   "outputs": [],
   "source": [
    "from sklearn import cluster\n",
    "import numpy as np"
   ]
  },
  {
   "cell_type": "code",
   "execution_count": 81,
   "metadata": {},
   "outputs": [],
   "source": [
    "inertia = []\n",
    "K = range(2, 20)\n",
    "for k in K:\n",
    "    kmeans = cluster.KMeans(n_clusters=k,random_state=1234)\n",
    "    kmeans.fit(x_standardized)\n",
    "    pred = kmeans.predict(x_standardized)\n",
    "    inertia.append(kmeans.inertia_)\n"
   ]
  },
  {
   "cell_type": "code",
   "execution_count": 82,
   "metadata": {},
   "outputs": [
    {
     "data": {
      "text/plain": [
       "Text(0.5, 1.0, 'Elbow Method showing the optimal k')"
      ]
     },
     "execution_count": 82,
     "metadata": {},
     "output_type": "execute_result"
    },
    {
     "data": {
      "image/png": "[encoded data removed]",
      "text/plain": [
       "<Figure size 1152x576 with 1 Axes>"
      ]
     },
     "metadata": {
      "needs_background": "light"
     },
     "output_type": "display_data"
    }
   ],
   "source": [
    "import matplotlib.pyplot as plt\n",
    "%matplotlib inline\n",
    "\n",
    "plt.figure(figsize=(16,8))\n",
    "plt.plot(K, inertia, 'bx-')\n",
    "plt.xlabel('k')\n",
    "plt.ylabel('inertia')\n",
    "plt.xticks(np.arange(min(K), max(K)+1, 1.0))\n",
    "plt.title('Elbow Method showing the optimal k')"
   ]
  },
  {
   "cell_type": "code",
   "execution_count": 83,
   "metadata": {},
   "outputs": [
    {
     "data": {
      "text/plain": [
       "[16684.66863321648,\n",
       " 15490.247853619716,\n",
       " 13991.135494911396,\n",
       " 13058.83812111924,\n",
       " 12156.756442390733,\n",
       " 11424.064558191161,\n",
       " 10873.602267167931,\n",
       " 10406.213373330798,\n",
       " 10017.511157776871,\n",
       " 9714.669190171378,\n",
       " 9439.409113047679,\n",
       " 9147.47864101063,\n",
       " 8938.006233250064,\n",
       " 8742.263217042784,\n",
       " 8571.915599194199,\n",
       " 8437.343544873858,\n",
       " 8220.414925427622,\n",
       " 8100.860623994435]"
      ]
     },
     "execution_count": 83,
     "metadata": {},
     "output_type": "execute_result"
    }
   ],
   "source": [
    "inertia"
   ]
  },
  {
   "cell_type": "code",
   "execution_count": 84,
   "metadata": {},
   "outputs": [],
   "source": [
    "inertia = []\n",
    "kmeans = cluster.KMeans(n_clusters=4,random_state=1234)\n",
    "kmeans.fit(x_standardized)\n",
    "pred = kmeans.predict(x_standardized)\n",
    "inertia.append(kmeans.inertia_)\n"
   ]
  },
  {
   "cell_type": "code",
   "execution_count": 85,
   "metadata": {},
   "outputs": [
    {
     "data": {
      "text/plain": [
       "1825"
      ]
     },
     "execution_count": 85,
     "metadata": {},
     "output_type": "execute_result"
    }
   ],
   "source": [
    "len(pred)"
   ]
  },
  {
   "cell_type": "markdown",
   "metadata": {},
   "source": [
    "# Cluster the data"
   ]
  },
  {
   "cell_type": "code",
   "execution_count": 86,
   "metadata": {},
   "outputs": [],
   "source": [
    "#make a new column for kmeans pred\n",
    "data['cluster']=pred"
   ]
  },
  {
   "cell_type": "code",
   "execution_count": 87,
   "metadata": {},
   "outputs": [
    {
     "data": {
      "text/html": [
       "<div>\n",
       "<style scoped>\n",
       "    .dataframe tbody tr th:only-of-type {\n",
       "        vertical-align: middle;\n",
       "    }\n",
       "\n",
       "    .dataframe tbody tr th {\n",
       "        vertical-align: top;\n",
       "    }\n",
       "\n",
       "    .dataframe thead th {\n",
       "        text-align: right;\n",
       "    }\n",
       "</style>\n",
       "<table border=\"1\" class=\"dataframe\">\n",
       "  <thead>\n",
       "    <tr style=\"text-align: right;\">\n",
       "      <th></th>\n",
       "      <th>artist</th>\n",
       "      <th>title</th>\n",
       "      <th>danceability</th>\n",
       "      <th>energy</th>\n",
       "      <th>key</th>\n",
       "      <th>loudness</th>\n",
       "      <th>mode</th>\n",
       "      <th>speechiness</th>\n",
       "      <th>acousticness</th>\n",
       "      <th>instrumentalness</th>\n",
       "      <th>liveness</th>\n",
       "      <th>valence</th>\n",
       "      <th>tempo</th>\n",
       "      <th>cluster</th>\n",
       "    </tr>\n",
       "  </thead>\n",
       "  <tbody>\n",
       "    <tr>\n",
       "      <th>0</th>\n",
       "      <td>A.R. Rahman</td>\n",
       "      <td>Poongatrile (From \"Uyire\")</td>\n",
       "      <td>0.750</td>\n",
       "      <td>0.341</td>\n",
       "      <td>11</td>\n",
       "      <td>-13.368</td>\n",
       "      <td>0</td>\n",
       "      <td>0.0381</td>\n",
       "      <td>0.2670</td>\n",
       "      <td>0.000000</td>\n",
       "      <td>0.0951</td>\n",
       "      <td>0.602</td>\n",
       "      <td>121.999</td>\n",
       "      <td>1</td>\n",
       "    </tr>\n",
       "    <tr>\n",
       "      <th>1</th>\n",
       "      <td>A.R. Rahman</td>\n",
       "      <td>Kaadhal yogi (From \"Thaalam\")</td>\n",
       "      <td>0.787</td>\n",
       "      <td>0.407</td>\n",
       "      <td>6</td>\n",
       "      <td>-15.394</td>\n",
       "      <td>1</td>\n",
       "      <td>0.0846</td>\n",
       "      <td>0.0825</td>\n",
       "      <td>0.000000</td>\n",
       "      <td>0.2490</td>\n",
       "      <td>0.683</td>\n",
       "      <td>139.989</td>\n",
       "      <td>0</td>\n",
       "    </tr>\n",
       "    <tr>\n",
       "      <th>2</th>\n",
       "      <td>A.R. Rahman</td>\n",
       "      <td>Thayya Thayya (From \"Uyire\")</td>\n",
       "      <td>0.648</td>\n",
       "      <td>0.593</td>\n",
       "      <td>4</td>\n",
       "      <td>-15.789</td>\n",
       "      <td>0</td>\n",
       "      <td>0.2990</td>\n",
       "      <td>0.0446</td>\n",
       "      <td>0.000000</td>\n",
       "      <td>0.2770</td>\n",
       "      <td>0.387</td>\n",
       "      <td>179.883</td>\n",
       "      <td>1</td>\n",
       "    </tr>\n",
       "    <tr>\n",
       "      <th>3</th>\n",
       "      <td>A.R. Rahman</td>\n",
       "      <td>Nenjinile (From \"Uyire\")</td>\n",
       "      <td>0.755</td>\n",
       "      <td>0.594</td>\n",
       "      <td>9</td>\n",
       "      <td>-14.460</td>\n",
       "      <td>1</td>\n",
       "      <td>0.0549</td>\n",
       "      <td>0.2160</td>\n",
       "      <td>0.000328</td>\n",
       "      <td>0.0781</td>\n",
       "      <td>0.683</td>\n",
       "      <td>141.946</td>\n",
       "      <td>0</td>\n",
       "    </tr>\n",
       "    <tr>\n",
       "      <th>4</th>\n",
       "      <td>A.R. Rahman</td>\n",
       "      <td>Eetchi Elumichi (From \"Taj Mahal\")</td>\n",
       "      <td>0.702</td>\n",
       "      <td>0.478</td>\n",
       "      <td>10</td>\n",
       "      <td>-10.873</td>\n",
       "      <td>1</td>\n",
       "      <td>0.0363</td>\n",
       "      <td>0.0960</td>\n",
       "      <td>0.000016</td>\n",
       "      <td>0.1350</td>\n",
       "      <td>0.901</td>\n",
       "      <td>155.997</td>\n",
       "      <td>0</td>\n",
       "    </tr>\n",
       "  </tbody>\n",
       "</table>\n",
       "</div>"
      ],
      "text/plain": [
       "        artist                               title  danceability  energy  key  \\\n",
       "0  A.R. Rahman          Poongatrile (From \"Uyire\")         0.750   0.341   11   \n",
       "1  A.R. Rahman       Kaadhal yogi (From \"Thaalam\")         0.787   0.407    6   \n",
       "2  A.R. Rahman        Thayya Thayya (From \"Uyire\")         0.648   0.593    4   \n",
       "3  A.R. Rahman            Nenjinile (From \"Uyire\")         0.755   0.594    9   \n",
       "4  A.R. Rahman  Eetchi Elumichi (From \"Taj Mahal\")         0.702   0.478   10   \n",
       "\n",
       "   loudness  mode  speechiness  acousticness  instrumentalness  liveness  \\\n",
       "0   -13.368     0       0.0381        0.2670          0.000000    0.0951   \n",
       "1   -15.394     1       0.0846        0.0825          0.000000    0.2490   \n",
       "2   -15.789     0       0.2990        0.0446          0.000000    0.2770   \n",
       "3   -14.460     1       0.0549        0.2160          0.000328    0.0781   \n",
       "4   -10.873     1       0.0363        0.0960          0.000016    0.1350   \n",
       "\n",
       "   valence    tempo  cluster  \n",
       "0    0.602  121.999        1  \n",
       "1    0.683  139.989        0  \n",
       "2    0.387  179.883        1  \n",
       "3    0.683  141.946        0  \n",
       "4    0.901  155.997        0  "
      ]
     },
     "execution_count": 87,
     "metadata": {},
     "output_type": "execute_result"
    }
   ],
   "source": [
    "data.head()"
   ]
  },
  {
   "cell_type": "code",
   "execution_count": 88,
   "metadata": {},
   "outputs": [
    {
     "data": {
      "text/plain": [
       "3    667\n",
       "0    622\n",
       "1    502\n",
       "2     34\n",
       "Name: cluster, dtype: int64"
      ]
     },
     "execution_count": 88,
     "metadata": {},
     "output_type": "execute_result"
    }
   ],
   "source": [
    "data.cluster.value_counts()"
   ]
  },
  {
   "cell_type": "code",
   "execution_count": 89,
   "metadata": {},
   "outputs": [],
   "source": [
    "# ask a new song to  the spotify we like to  know which cluster the song belongs to.\n",
    "a = sp.search('Sorry',limit=1)"
   ]
  },
  {
   "cell_type": "code",
   "execution_count": 90,
   "metadata": {},
   "outputs": [
    {
     "data": {
      "text/plain": [
       "dict_keys(['tracks'])"
      ]
     },
     "execution_count": 90,
     "metadata": {},
     "output_type": "execute_result"
    }
   ],
   "source": [
    "a.keys()"
   ]
  },
  {
   "cell_type": "code",
   "execution_count": 91,
   "metadata": {},
   "outputs": [
    {
     "data": {
      "text/plain": [
       "dict_keys(['href', 'items', 'limit', 'next', 'offset', 'previous', 'total'])"
      ]
     },
     "execution_count": 91,
     "metadata": {},
     "output_type": "execute_result"
    }
   ],
   "source": [
    "a['tracks'].keys()"
   ]
  },
  {
   "cell_type": "code",
   "execution_count": 92,
   "metadata": {},
   "outputs": [],
   "source": [
    "song = []\n",
    "track = a['tracks']['items'][0]['name']\n",
    "song.append(track)"
   ]
  },
  {
   "cell_type": "code",
   "execution_count": 93,
   "metadata": {},
   "outputs": [
    {
     "data": {
      "text/plain": [
       "['Sorry Not Sorry']"
      ]
     },
     "execution_count": 93,
     "metadata": {},
     "output_type": "execute_result"
    }
   ],
   "source": [
    "song"
   ]
  },
  {
   "cell_type": "code",
   "execution_count": 94,
   "metadata": {},
   "outputs": [
    {
     "data": {
      "text/plain": [
       "'spotify:track:7gvd8xj4QgPqbQSsn5pV7d'"
      ]
     },
     "execution_count": 94,
     "metadata": {},
     "output_type": "execute_result"
    }
   ],
   "source": [
    "a['tracks']['items'][0]['uri']"
   ]
  },
  {
   "cell_type": "code",
   "execution_count": 95,
   "metadata": {},
   "outputs": [],
   "source": [
    "singer = []\n",
    "artist = a['tracks']['items'][0]['artists'][0]['name']\n",
    "singer.append(artist)"
   ]
  },
  {
   "cell_type": "code",
   "execution_count": 96,
   "metadata": {},
   "outputs": [
    {
     "data": {
      "text/plain": [
       "['Demi Lovato']"
      ]
     },
     "execution_count": 96,
     "metadata": {},
     "output_type": "execute_result"
    }
   ],
   "source": [
    "singer"
   ]
  },
  {
   "cell_type": "code",
   "execution_count": 97,
   "metadata": {},
   "outputs": [],
   "source": [
    "new_uri = []\n",
    "uri = sp.audio_features(a['tracks']['items'][0]['uri'])\n",
    "new_uri.append(uri)        \n"
   ]
  },
  {
   "cell_type": "code",
   "execution_count": 98,
   "metadata": {},
   "outputs": [
    {
     "data": {
      "text/plain": [
       "[[{'danceability': 0.705,\n",
       "   'energy': 0.64,\n",
       "   'key': 11,\n",
       "   'loudness': -6.928,\n",
       "   'mode': 0,\n",
       "   'speechiness': 0.225,\n",
       "   'acousticness': 0.0237,\n",
       "   'instrumentalness': 0,\n",
       "   'liveness': 0.262,\n",
       "   'valence': 0.887,\n",
       "   'tempo': 144.077,\n",
       "   'type': 'audio_features',\n",
       "   'id': '7gvd8xj4QgPqbQSsn5pV7d',\n",
       "   'uri': 'spotify:track:7gvd8xj4QgPqbQSsn5pV7d',\n",
       "   'track_href': 'https://api.spotify.com/v1/tracks/7gvd8xj4QgPqbQSsn5pV7d',\n",
       "   'analysis_url': 'https://api.spotify.com/v1/audio-analysis/7gvd8xj4QgPqbQSsn5pV7d',\n",
       "   'duration_ms': 203760,\n",
       "   'time_signature': 4}]]"
      ]
     },
     "execution_count": 98,
     "metadata": {},
     "output_type": "execute_result"
    }
   ],
   "source": [
    "new_uri"
   ]
  },
  {
   "cell_type": "code",
   "execution_count": 99,
   "metadata": {},
   "outputs": [
    {
     "data": {
      "text/plain": [
       "[{'danceability': 0.705,\n",
       "  'energy': 0.64,\n",
       "  'key': 11,\n",
       "  'loudness': -6.928,\n",
       "  'mode': 0,\n",
       "  'speechiness': 0.225,\n",
       "  'acousticness': 0.0237,\n",
       "  'instrumentalness': 0,\n",
       "  'liveness': 0.262,\n",
       "  'valence': 0.887,\n",
       "  'tempo': 144.077,\n",
       "  'type': 'audio_features',\n",
       "  'id': '7gvd8xj4QgPqbQSsn5pV7d',\n",
       "  'uri': 'spotify:track:7gvd8xj4QgPqbQSsn5pV7d',\n",
       "  'track_href': 'https://api.spotify.com/v1/tracks/7gvd8xj4QgPqbQSsn5pV7d',\n",
       "  'analysis_url': 'https://api.spotify.com/v1/audio-analysis/7gvd8xj4QgPqbQSsn5pV7d',\n",
       "  'duration_ms': 203760,\n",
       "  'time_signature': 4}]"
      ]
     },
     "execution_count": 99,
     "metadata": {},
     "output_type": "execute_result"
    }
   ],
   "source": [
    "features = flatten(new_uri)\n",
    "features"
   ]
  },
  {
   "cell_type": "code",
   "execution_count": 100,
   "metadata": {},
   "outputs": [],
   "source": [
    "new1 = pd.DataFrame(song)\n",
    "new2 = pd.DataFrame(singer)\n",
    "new3 = pd.DataFrame(features)"
   ]
  },
  {
   "cell_type": "code",
   "execution_count": 101,
   "metadata": {},
   "outputs": [],
   "source": [
    "external_song = pd.concat((new2,new1,new3), axis=1)"
   ]
  },
  {
   "cell_type": "code",
   "execution_count": 102,
   "metadata": {},
   "outputs": [
    {
     "data": {
      "text/html": [
       "<div>\n",
       "<style scoped>\n",
       "    .dataframe tbody tr th:only-of-type {\n",
       "        vertical-align: middle;\n",
       "    }\n",
       "\n",
       "    .dataframe tbody tr th {\n",
       "        vertical-align: top;\n",
       "    }\n",
       "\n",
       "    .dataframe thead th {\n",
       "        text-align: right;\n",
       "    }\n",
       "</style>\n",
       "<table border=\"1\" class=\"dataframe\">\n",
       "  <thead>\n",
       "    <tr style=\"text-align: right;\">\n",
       "      <th></th>\n",
       "      <th>0</th>\n",
       "      <th>0</th>\n",
       "      <th>danceability</th>\n",
       "      <th>energy</th>\n",
       "      <th>key</th>\n",
       "      <th>loudness</th>\n",
       "      <th>mode</th>\n",
       "      <th>speechiness</th>\n",
       "      <th>acousticness</th>\n",
       "      <th>instrumentalness</th>\n",
       "      <th>liveness</th>\n",
       "      <th>valence</th>\n",
       "      <th>tempo</th>\n",
       "      <th>type</th>\n",
       "      <th>id</th>\n",
       "      <th>uri</th>\n",
       "      <th>track_href</th>\n",
       "      <th>analysis_url</th>\n",
       "      <th>duration_ms</th>\n",
       "      <th>time_signature</th>\n",
       "    </tr>\n",
       "  </thead>\n",
       "  <tbody>\n",
       "    <tr>\n",
       "      <th>0</th>\n",
       "      <td>Demi Lovato</td>\n",
       "      <td>Sorry Not Sorry</td>\n",
       "      <td>0.705</td>\n",
       "      <td>0.64</td>\n",
       "      <td>11</td>\n",
       "      <td>-6.928</td>\n",
       "      <td>0</td>\n",
       "      <td>0.225</td>\n",
       "      <td>0.0237</td>\n",
       "      <td>0</td>\n",
       "      <td>0.262</td>\n",
       "      <td>0.887</td>\n",
       "      <td>144.077</td>\n",
       "      <td>audio_features</td>\n",
       "      <td>7gvd8xj4QgPqbQSsn5pV7d</td>\n",
       "      <td>spotify:track:7gvd8xj4QgPqbQSsn5pV7d</td>\n",
       "      <td>https://api.spotify.com/v1/tracks/7gvd8xj4QgPq...</td>\n",
       "      <td>https://api.spotify.com/v1/audio-analysis/7gvd...</td>\n",
       "      <td>203760</td>\n",
       "      <td>4</td>\n",
       "    </tr>\n",
       "  </tbody>\n",
       "</table>\n",
       "</div>"
      ],
      "text/plain": [
       "             0                0  danceability  energy  key  loudness  mode  \\\n",
       "0  Demi Lovato  Sorry Not Sorry         0.705    0.64   11    -6.928     0   \n",
       "\n",
       "   speechiness  acousticness  instrumentalness  liveness  valence    tempo  \\\n",
       "0        0.225        0.0237                 0     0.262    0.887  144.077   \n",
       "\n",
       "             type                      id  \\\n",
       "0  audio_features  7gvd8xj4QgPqbQSsn5pV7d   \n",
       "\n",
       "                                    uri  \\\n",
       "0  spotify:track:7gvd8xj4QgPqbQSsn5pV7d   \n",
       "\n",
       "                                          track_href  \\\n",
       "0  https://api.spotify.com/v1/tracks/7gvd8xj4QgPq...   \n",
       "\n",
       "                                        analysis_url  duration_ms  \\\n",
       "0  https://api.spotify.com/v1/audio-analysis/7gvd...       203760   \n",
       "\n",
       "   time_signature  \n",
       "0               4  "
      ]
     },
     "execution_count": 102,
     "metadata": {},
     "output_type": "execute_result"
    }
   ],
   "source": [
    "external_song"
   ]
  },
  {
   "cell_type": "code",
   "execution_count": 103,
   "metadata": {},
   "outputs": [
    {
     "data": {
      "text/plain": [
       "Index([                 0,                  0,     'danceability',\n",
       "                 'energy',              'key',         'loudness',\n",
       "                   'mode',      'speechiness',     'acousticness',\n",
       "       'instrumentalness',         'liveness',          'valence',\n",
       "                  'tempo',             'type',               'id',\n",
       "                    'uri',       'track_href',     'analysis_url',\n",
       "            'duration_ms',   'time_signature'],\n",
       "      dtype='object')"
      ]
     },
     "execution_count": 103,
     "metadata": {},
     "output_type": "execute_result"
    }
   ],
   "source": [
    "external_song.columns"
   ]
  },
  {
   "cell_type": "code",
   "execution_count": 104,
   "metadata": {},
   "outputs": [],
   "source": [
    "external_song.columns = [                 'artist',                  'title',     'danceability',\n",
    "                 'energy',              'key',         'loudness',\n",
    "                   'mode',      'speechiness',     'acousticness',\n",
    "       'instrumentalness',         'liveness',          'valence',\n",
    "                  'tempo',             'type',               'id',\n",
    "                    'uri',       'track_href',     'analysis_url',\n",
    "            'duration_ms',   'time_signature']               \n",
    "                "
   ]
  },
  {
   "cell_type": "code",
   "execution_count": 105,
   "metadata": {},
   "outputs": [
    {
     "data": {
      "text/plain": [
       "Index(['artist', 'title', 'danceability', 'energy', 'key', 'loudness', 'mode',\n",
       "       'speechiness', 'acousticness', 'instrumentalness', 'liveness',\n",
       "       'valence', 'tempo', 'type', 'id', 'uri', 'track_href', 'analysis_url',\n",
       "       'duration_ms', 'time_signature'],\n",
       "      dtype='object')"
      ]
     },
     "execution_count": 105,
     "metadata": {},
     "output_type": "execute_result"
    }
   ],
   "source": [
    "external_song.columns"
   ]
  },
  {
   "cell_type": "code",
   "execution_count": 106,
   "metadata": {},
   "outputs": [],
   "source": [
    "data2 = external_song.drop(['type','id','uri','track_href','analysis_url','duration_ms','time_signature'], axis=1)"
   ]
  },
  {
   "cell_type": "code",
   "execution_count": 107,
   "metadata": {},
   "outputs": [
    {
     "data": {
      "text/html": [
       "<div>\n",
       "<style scoped>\n",
       "    .dataframe tbody tr th:only-of-type {\n",
       "        vertical-align: middle;\n",
       "    }\n",
       "\n",
       "    .dataframe tbody tr th {\n",
       "        vertical-align: top;\n",
       "    }\n",
       "\n",
       "    .dataframe thead th {\n",
       "        text-align: right;\n",
       "    }\n",
       "</style>\n",
       "<table border=\"1\" class=\"dataframe\">\n",
       "  <thead>\n",
       "    <tr style=\"text-align: right;\">\n",
       "      <th></th>\n",
       "      <th>artist</th>\n",
       "      <th>title</th>\n",
       "      <th>danceability</th>\n",
       "      <th>energy</th>\n",
       "      <th>key</th>\n",
       "      <th>loudness</th>\n",
       "      <th>mode</th>\n",
       "      <th>speechiness</th>\n",
       "      <th>acousticness</th>\n",
       "      <th>instrumentalness</th>\n",
       "      <th>liveness</th>\n",
       "      <th>valence</th>\n",
       "      <th>tempo</th>\n",
       "    </tr>\n",
       "  </thead>\n",
       "  <tbody>\n",
       "    <tr>\n",
       "      <th>0</th>\n",
       "      <td>Demi Lovato</td>\n",
       "      <td>Sorry Not Sorry</td>\n",
       "      <td>0.705</td>\n",
       "      <td>0.64</td>\n",
       "      <td>11</td>\n",
       "      <td>-6.928</td>\n",
       "      <td>0</td>\n",
       "      <td>0.225</td>\n",
       "      <td>0.0237</td>\n",
       "      <td>0</td>\n",
       "      <td>0.262</td>\n",
       "      <td>0.887</td>\n",
       "      <td>144.077</td>\n",
       "    </tr>\n",
       "  </tbody>\n",
       "</table>\n",
       "</div>"
      ],
      "text/plain": [
       "        artist            title  danceability  energy  key  loudness  mode  \\\n",
       "0  Demi Lovato  Sorry Not Sorry         0.705    0.64   11    -6.928     0   \n",
       "\n",
       "   speechiness  acousticness  instrumentalness  liveness  valence    tempo  \n",
       "0        0.225        0.0237                 0     0.262    0.887  144.077  "
      ]
     },
     "execution_count": 107,
     "metadata": {},
     "output_type": "execute_result"
    }
   ],
   "source": [
    "data2"
   ]
  },
  {
   "cell_type": "code",
   "execution_count": 108,
   "metadata": {},
   "outputs": [],
   "source": [
    "num = data2.select_dtypes(exclude = object)"
   ]
  },
  {
   "cell_type": "code",
   "execution_count": 109,
   "metadata": {},
   "outputs": [],
   "source": [
    "Standardtransformer = StandardScaler().fit(num)\n",
    "x_standardized1 = Standardtransformer.transform(num)"
   ]
  },
  {
   "cell_type": "code",
   "execution_count": 110,
   "metadata": {},
   "outputs": [
    {
     "data": {
      "text/plain": [
       "array([[0., 0., 0., 0., 0., 0., 0., 0., 0., 0., 0.]])"
      ]
     },
     "execution_count": 110,
     "metadata": {},
     "output_type": "execute_result"
    }
   ],
   "source": [
    "x_standardized1"
   ]
  },
  {
   "cell_type": "code",
   "execution_count": 111,
   "metadata": {},
   "outputs": [],
   "source": [
    "pred1 = kmeans.predict(x_standardized1)"
   ]
  },
  {
   "cell_type": "code",
   "execution_count": 112,
   "metadata": {},
   "outputs": [],
   "source": [
    "data2['cluster']=pred1"
   ]
  },
  {
   "cell_type": "code",
   "execution_count": 113,
   "metadata": {},
   "outputs": [
    {
     "data": {
      "text/html": [
       "<div>\n",
       "<style scoped>\n",
       "    .dataframe tbody tr th:only-of-type {\n",
       "        vertical-align: middle;\n",
       "    }\n",
       "\n",
       "    .dataframe tbody tr th {\n",
       "        vertical-align: top;\n",
       "    }\n",
       "\n",
       "    .dataframe thead th {\n",
       "        text-align: right;\n",
       "    }\n",
       "</style>\n",
       "<table border=\"1\" class=\"dataframe\">\n",
       "  <thead>\n",
       "    <tr style=\"text-align: right;\">\n",
       "      <th></th>\n",
       "      <th>artist</th>\n",
       "      <th>title</th>\n",
       "      <th>danceability</th>\n",
       "      <th>energy</th>\n",
       "      <th>key</th>\n",
       "      <th>loudness</th>\n",
       "      <th>mode</th>\n",
       "      <th>speechiness</th>\n",
       "      <th>acousticness</th>\n",
       "      <th>instrumentalness</th>\n",
       "      <th>liveness</th>\n",
       "      <th>valence</th>\n",
       "      <th>tempo</th>\n",
       "      <th>cluster</th>\n",
       "    </tr>\n",
       "  </thead>\n",
       "  <tbody>\n",
       "    <tr>\n",
       "      <th>0</th>\n",
       "      <td>Demi Lovato</td>\n",
       "      <td>Sorry Not Sorry</td>\n",
       "      <td>0.705</td>\n",
       "      <td>0.64</td>\n",
       "      <td>11</td>\n",
       "      <td>-6.928</td>\n",
       "      <td>0</td>\n",
       "      <td>0.225</td>\n",
       "      <td>0.0237</td>\n",
       "      <td>0</td>\n",
       "      <td>0.262</td>\n",
       "      <td>0.887</td>\n",
       "      <td>144.077</td>\n",
       "      <td>0</td>\n",
       "    </tr>\n",
       "  </tbody>\n",
       "</table>\n",
       "</div>"
      ],
      "text/plain": [
       "        artist            title  danceability  energy  key  loudness  mode  \\\n",
       "0  Demi Lovato  Sorry Not Sorry         0.705    0.64   11    -6.928     0   \n",
       "\n",
       "   speechiness  acousticness  instrumentalness  liveness  valence    tempo  \\\n",
       "0        0.225        0.0237                 0     0.262    0.887  144.077   \n",
       "\n",
       "   cluster  \n",
       "0        0  "
      ]
     },
     "execution_count": 113,
     "metadata": {},
     "output_type": "execute_result"
    }
   ],
   "source": [
    "data2"
   ]
  },
  {
   "cell_type": "code",
   "execution_count": 114,
   "metadata": {},
   "outputs": [
    {
     "data": {
      "text/html": [
       "<div>\n",
       "<style scoped>\n",
       "    .dataframe tbody tr th:only-of-type {\n",
       "        vertical-align: middle;\n",
       "    }\n",
       "\n",
       "    .dataframe tbody tr th {\n",
       "        vertical-align: top;\n",
       "    }\n",
       "\n",
       "    .dataframe thead th {\n",
       "        text-align: right;\n",
       "    }\n",
       "</style>\n",
       "<table border=\"1\" class=\"dataframe\">\n",
       "  <thead>\n",
       "    <tr style=\"text-align: right;\">\n",
       "      <th></th>\n",
       "      <th>title</th>\n",
       "      <th>artist</th>\n",
       "    </tr>\n",
       "  </thead>\n",
       "  <tbody>\n",
       "    <tr>\n",
       "      <th>1709</th>\n",
       "      <td>September</td>\n",
       "      <td>Earth, Wind &amp; Fire</td>\n",
       "    </tr>\n",
       "  </tbody>\n",
       "</table>\n",
       "</div>"
      ],
      "text/plain": [
       "          title              artist\n",
       "1709  September  Earth, Wind & Fire"
      ]
     },
     "execution_count": 114,
     "metadata": {},
     "output_type": "execute_result"
    }
   ],
   "source": [
    "data[data['cluster']== pred1[0]].sample()[['title','artist']]"
   ]
  },
  {
   "cell_type": "code",
   "execution_count": 115,
   "metadata": {},
   "outputs": [],
   "source": [
    "def song(x):\n",
    "    song = []\n",
    "    singer = []\n",
    "    new_uri = []\n",
    "    a = sp.search('x',limit=1)\n",
    "    a['tracks'].keys()\n",
    "    track = a['tracks']['items'][0]['name']\n",
    "    song.append(track)\n",
    "    artist = a['tracks']['items'][0]['artists'][0]['name']\n",
    "    singer.append(artist)\n",
    "    uri = sp.audio_features(a['tracks']['items'][0]['uri'])\n",
    "    new_uri.append(uri)\n",
    "    features = flatten(new_uri)\n",
    "    new1 = pd.DataFrame(song)\n",
    "    new2 = pd.DataFrame(singer)\n",
    "    new3 = pd.DataFrame(features)\n",
    "    external_song = pd.concat([new2,new1,new3], axis=1)\n",
    "    data2 = external_song.drop(['type','id','uri','track_href','analysis_url','duration_ms','time_signature'], axis=1)\n",
    "    num = data2.select_dtypes(exclude = object)\n",
    "    Standardtransformer = StandardScaler().fit(num)\n",
    "    x_standardized1 = Standardtransformer.transform(num)\n",
    "    pred1 = kmeans.predict(x_standardized1)\n",
    "    data2['cluster']=pred1\n",
    "    data[data['cluster']== pred1[0]].sample()[['title','artist']]\n",
    "    return data[data['cluster']== pred1[0]].sample()[['title','artist']]         "
   ]
  },
  {
   "cell_type": "code",
   "execution_count": 116,
   "metadata": {},
   "outputs": [
    {
     "name": "stdout",
     "output_type": "stream",
     "text": [
      "user choose a song Sorry but we recommend another song within the same cluster              title       artist\n",
      "402  Dil Ka Qaraar  Jatin-Lalit\n"
     ]
    },
    {
     "name": "stderr",
     "output_type": "stream",
     "text": [
      "<ipython-input-115-e1ef0c187dbd>:23: SettingWithCopyWarning: \n",
      "A value is trying to be set on a copy of a slice from a DataFrame.\n",
      "Try using .loc[row_indexer,col_indexer] = value instead\n",
      "\n",
      "See the caveats in the documentation: https://pandas.pydata.org/pandas-docs/stable/user_guide/indexing.html#returning-a-view-versus-a-copy\n",
      "  data2['cluster']=pred1\n"
     ]
    }
   ],
   "source": [
    "print('user choose a song Sorry but we recommend another song within the same cluster',song('Sorry'))"
   ]
  },
  {
   "cell_type": "markdown",
   "metadata": {},
   "source": [
    "# check whether the new song is from the Billboard top_200"
   ]
  },
  {
   "cell_type": "code",
   "execution_count": 117,
   "metadata": {},
   "outputs": [],
   "source": [
    "from bs4 import BeautifulSoup\n",
    "import requests\n",
    "import random"
   ]
  },
  {
   "cell_type": "code",
   "execution_count": 118,
   "metadata": {},
   "outputs": [],
   "source": [
    "url = ('https://www.billboard.com/charts/billboard-200')"
   ]
  },
  {
   "cell_type": "code",
   "execution_count": 119,
   "metadata": {},
   "outputs": [
    {
     "data": {
      "text/plain": [
       "200"
      ]
     },
     "execution_count": 119,
     "metadata": {},
     "output_type": "execute_result"
    }
   ],
   "source": [
    "response = requests.get(url)\n",
    "response.status_code"
   ]
  },
  {
   "cell_type": "code",
   "execution_count": 120,
   "metadata": {},
   "outputs": [],
   "source": [
    "soup = BeautifulSoup(response.content, \"html.parser\")"
   ]
  },
  {
   "cell_type": "code",
   "execution_count": 131,
   "metadata": {},
   "outputs": [
    {
     "data": {
      "text/plain": [
       "{'tags': ['hide-output']}"
      ]
     },
     "execution_count": 131,
     "metadata": {},
     "output_type": "execute_result"
    }
   ],
   "source": [
    "soup.select(\"span.chart-element__information__song.text--truncate.color--primary\")\n",
    "{\n",
    "    \"tags\": [\n",
    "        \"hide-output\",\n",
    "    ]\n",
    "}"
   ]
  },
  {
   "cell_type": "code",
   "execution_count": 142,
   "metadata": {},
   "outputs": [
    {
     "data": {
      "text/plain": [
       "{'tags': ['hide-output']}"
      ]
     },
     "execution_count": 142,
     "metadata": {},
     "output_type": "execute_result"
    }
   ],
   "source": [
    "soup.select(\"span.chart-element__information__artist.text--truncate.color--secondary\")\n",
    "{\n",
    "    \"tags\": [\n",
    "        \"hide-output\",\n",
    "    ]\n",
    "}"
   ]
  },
  {
   "cell_type": "code",
   "execution_count": 129,
   "metadata": {},
   "outputs": [
    {
     "data": {
      "text/plain": [
       "'Young Stoner Life: Slime Language 2'"
      ]
     },
     "execution_count": 129,
     "metadata": {},
     "output_type": "execute_result"
    }
   ],
   "source": [
    "soup.select(\"span.chart-element__information__song.text--truncate.color--primary\")[0].get_text()"
   ]
  },
  {
   "cell_type": "code",
   "execution_count": 132,
   "metadata": {},
   "outputs": [
    {
     "data": {
      "text/plain": [
       "'Young Thug & Various Artists'"
      ]
     },
     "execution_count": 132,
     "metadata": {},
     "output_type": "execute_result"
    }
   ],
   "source": [
    "soup.select(\"span.chart-element__information__artist.text--truncate.color--secondary\")[0].get_text()"
   ]
  },
  {
   "cell_type": "code",
   "execution_count": 133,
   "metadata": {},
   "outputs": [],
   "source": [
    "num_songs = len(soup.select(\"span.chart-element__information__song.text--truncate.color--primary\"))\n",
    "num_artist = len(soup.select(\"span.chart-element__information__artist.text--truncate.color--secondary\"))"
   ]
  },
  {
   "cell_type": "code",
   "execution_count": 138,
   "metadata": {},
   "outputs": [],
   "source": [
    "title = []\n",
    "artist = []\n",
    "\n",
    "for i in range(num_songs):\n",
    "    title.append(soup.select(\"span.chart-element__information__song.text--truncate.color--primary\")[i].get_text())\n",
    "for j in range(num_artist):\n",
    "    artist.append(soup.select(\"span.chart-element__information__artist.text--truncate.color--secondary\")[j].get_text())    "
   ]
  },
  {
   "cell_type": "code",
   "execution_count": 139,
   "metadata": {},
   "outputs": [],
   "source": [
    "top_200_Billboard = pd.DataFrame({\"title\":title,\"artist\":artist })"
   ]
  },
  {
   "cell_type": "code",
   "execution_count": 141,
   "metadata": {},
   "outputs": [
    {
     "name": "stdout",
     "output_type": "stream",
     "text": [
      "song is not in top_200_Billboard\n"
     ]
    }
   ],
   "source": [
    "if data[data['cluster']== pred1[0]].sample()[['title','artist']] is top_200_Billboard:\n",
    "    print(\"top_200_Billboard song\")\n",
    "else:\n",
    "    print(\"song is not in top_200_Billboard\")"
   ]
  }
 ],
 "metadata": {
  "kernelspec": {
   "display_name": "Python 3",
   "language": "python",
   "name": "python3"
  },
  "language_info": {
   "codemirror_mode": {
    "name": "ipython",
    "version": 3
   },
   "file_extension": ".py",
   "mimetype": "text/x-python",
   "name": "python",
   "nbconvert_exporter": "python",
   "pygments_lexer": "ipython3",
   "version": "3.8.5"
  }
 },
 "nbformat": 4,
 "nbformat_minor": 4
}
